{
 "cells": [
  {
   "cell_type": "code",
   "execution_count": 68,
   "metadata": {},
   "outputs": [],
   "source": [
    "import pandas as pd\n",
    "from tensorflow.keras import regularizers   \n",
    "from tensorflow.keras.layers import Dense, Activation, Dropout \n",
    "from tensorflow.keras.models import Sequential\n",
    "from tensorflow.keras.preprocessing.text import Tokenizer \n",
    "from sklearn.feature_extraction.text import ENGLISH_STOP_WORDS\n",
    "from sklearn.model_selection import train_test_split\n",
    "from sklearn.preprocessing import LabelBinarizer\n",
    "from sklearn.metrics import confusion_matrix, auc, precision_recall_curve\n",
    "from sklearn.feature_extraction.text import CountVectorizer\n",
    "import seaborn as sns\n",
    "import matplotlib.pyplot as plt \n",
    "import email\n",
    "import numpy as np\n",
    "import re"
   ]
  },
  {
   "cell_type": "code",
   "execution_count": 2,
   "metadata": {},
   "outputs": [],
   "source": [
    "train_df = pd.read_csv('data/Train_data.csv')\n",
    "test_df = pd.read_csv('data/Test_data.csv')"
   ]
  },
  {
   "cell_type": "code",
   "execution_count": 3,
   "metadata": {},
   "outputs": [
    {
     "name": "stdout",
     "output_type": "stream",
     "text": [
      "<class 'pandas.core.frame.DataFrame'>\n",
      "RangeIndex: 16130 entries, 0 to 16129\n",
      "Data columns (total 2 columns):\n",
      "Label    16130 non-null object\n",
      "Text     16130 non-null object\n",
      "dtypes: object(2)\n",
      "memory usage: 252.2+ KB\n"
     ]
    }
   ],
   "source": [
    "train_df.info()"
   ]
  },
  {
   "cell_type": "code",
   "execution_count": 4,
   "metadata": {},
   "outputs": [
    {
     "data": {
      "text/html": [
       "<div>\n",
       "<style scoped>\n",
       "    .dataframe tbody tr th:only-of-type {\n",
       "        vertical-align: middle;\n",
       "    }\n",
       "\n",
       "    .dataframe tbody tr th {\n",
       "        vertical-align: top;\n",
       "    }\n",
       "\n",
       "    .dataframe thead th {\n",
       "        text-align: right;\n",
       "    }\n",
       "</style>\n",
       "<table border=\"1\" class=\"dataframe\">\n",
       "  <thead>\n",
       "    <tr style=\"text-align: right;\">\n",
       "      <th></th>\n",
       "      <th>Label</th>\n",
       "      <th>Text</th>\n",
       "    </tr>\n",
       "  </thead>\n",
       "  <tbody>\n",
       "    <tr>\n",
       "      <th>0</th>\n",
       "      <td>CLOS_DISC</td>\n",
       "      <td>Closing DisclosureThis form is a statement of ...</td>\n",
       "    </tr>\n",
       "    <tr>\n",
       "      <th>1</th>\n",
       "      <td>CLOS_DISC</td>\n",
       "      <td>Closing Cost DetailsBorrower-PaidSeller-PaldLo...</td>\n",
       "    </tr>\n",
       "    <tr>\n",
       "      <th>2</th>\n",
       "      <td>CLOS_DISC</td>\n",
       "      <td>Calculating Cash to CloseUse this table to see...</td>\n",
       "    </tr>\n",
       "    <tr>\n",
       "      <th>3</th>\n",
       "      <td>CLOS_DISC</td>\n",
       "      <td>Additiona Information About This LoanLoan Disc...</td>\n",
       "    </tr>\n",
       "    <tr>\n",
       "      <th>4</th>\n",
       "      <td>CLOS_DISC</td>\n",
       "      <td>Loan CalculationsOther DisclosuresTotal of Pay...</td>\n",
       "    </tr>\n",
       "    <tr>\n",
       "      <th>5</th>\n",
       "      <td>NOTE</td>\n",
       "      <td>TCOPYOF THENOTEHARRINGTONLoan #: 1217172251Ser...</td>\n",
       "    </tr>\n",
       "    <tr>\n",
       "      <th>6</th>\n",
       "      <td>NOTE</td>\n",
       "      <td>01050624181217172251then: (a) any such loan ch...</td>\n",
       "    </tr>\n",
       "    <tr>\n",
       "      <th>7</th>\n",
       "      <td>NOTE</td>\n",
       "      <td>01050624181217172251This Note is a uniform ins...</td>\n",
       "    </tr>\n",
       "    <tr>\n",
       "      <th>8</th>\n",
       "      <td>MORTGAGE</td>\n",
       "      <td>After Recording Return To:UNITED SHORE FINANCI...</td>\n",
       "    </tr>\n",
       "    <tr>\n",
       "      <th>9</th>\n",
       "      <td>MORTGAGE</td>\n",
       "      <td>01050624181217172251(H) \"Riders\" means all Rid...</td>\n",
       "    </tr>\n",
       "  </tbody>\n",
       "</table>\n",
       "</div>"
      ],
      "text/plain": [
       "       Label                                               Text\n",
       "0  CLOS_DISC  Closing DisclosureThis form is a statement of ...\n",
       "1  CLOS_DISC  Closing Cost DetailsBorrower-PaidSeller-PaldLo...\n",
       "2  CLOS_DISC  Calculating Cash to CloseUse this table to see...\n",
       "3  CLOS_DISC  Additiona Information About This LoanLoan Disc...\n",
       "4  CLOS_DISC  Loan CalculationsOther DisclosuresTotal of Pay...\n",
       "5       NOTE  TCOPYOF THENOTEHARRINGTONLoan #: 1217172251Ser...\n",
       "6       NOTE  01050624181217172251then: (a) any such loan ch...\n",
       "7       NOTE  01050624181217172251This Note is a uniform ins...\n",
       "8   MORTGAGE  After Recording Return To:UNITED SHORE FINANCI...\n",
       "9   MORTGAGE  01050624181217172251(H) \"Riders\" means all Rid..."
      ]
     },
     "execution_count": 4,
     "metadata": {},
     "output_type": "execute_result"
    }
   ],
   "source": [
    "train_df.head(10)"
   ]
  },
  {
   "cell_type": "code",
   "execution_count": 5,
   "metadata": {},
   "outputs": [
    {
     "data": {
      "text/plain": [
       "Label    object\n",
       "Text     object\n",
       "dtype: object"
      ]
     },
     "execution_count": 5,
     "metadata": {},
     "output_type": "execute_result"
    }
   ],
   "source": [
    "train_df.dtypes"
   ]
  },
  {
   "cell_type": "code",
   "execution_count": 6,
   "metadata": {},
   "outputs": [],
   "source": [
    "def clean(text):\n",
    "    text = re.sub(r\"\\n+\", \". \", text)\n",
    "    text = re.sub(r\"\\'s\", \"\", text)\n",
    "    text = re.sub(r\"\\'ve\", \"\", text)\n",
    "    text = re.sub(r\"n\\'t\", \"\", text)\n",
    "    text = re.sub(r\"\\'re\", \"\", text)\n",
    "    text = re.sub(r\"\\'d\", \"\", text)\n",
    "    text = re.sub(r\"\\'ll\", \"\", text)\n",
    "    text = re.sub(r\",\", \"\", text)\n",
    "    text = re.sub(r\"!\", \" ! \", text)\n",
    "    text = re.sub(r\"\\(\", \"\", text)\n",
    "    text = re.sub(r\"\\)\", \"\", text)\n",
    "    text = re.sub(r\"\\?\", \"\", text)\n",
    "    text = re.sub(r\"'\", \"\", text)\n",
    "    text = re.sub(r\"[^A-Za-z0-9(),!?\\'\\`]\", \" \", text)\n",
    "    text = re.sub(r\"[0-9]\\w+|[0-9]\",\"\", text)\n",
    "    text = re.sub(r\"\\s{2,}\", \" \", text)\n",
    "    text = text.strip().lower()\n",
    "    text = [word for word in text.split() if word not in ENGLISH_STOP_WORDS]\n",
    "    text = ' '.join(text)\n",
    "    return text"
   ]
  },
  {
   "cell_type": "code",
   "execution_count": 7,
   "metadata": {},
   "outputs": [
    {
     "data": {
      "text/plain": [
       "<matplotlib.axes._subplots.AxesSubplot at 0x23564d9c240>"
      ]
     },
     "execution_count": 7,
     "metadata": {},
     "output_type": "execute_result"
    },
    {
     "data": {
      "image/png": "[encoded data removed]",
      "text/plain": [
       "<Figure size 432x288 with 1 Axes>"
      ]
     },
     "metadata": {
      "needs_background": "light"
     },
     "output_type": "display_data"
    }
   ],
   "source": [
    "train_df['Label'].value_counts().plot(kind='bar')"
   ]
  },
  {
   "cell_type": "code",
   "execution_count": 8,
   "metadata": {},
   "outputs": [
    {
     "data": {
      "text/plain": [
       "None                                                       8065\n",
       "MORTGAGE                                                    891\n",
       "CREDIT_REPORT                                               754\n",
       "FORM1003                                                    716\n",
       "CLOS_DISC                                                   676\n",
       "APPRAISAL                                                   571\n",
       "PURCHASE_CONTRACT                                           449\n",
       "AUS-DU                                                      393\n",
       "TITLE                                                       383\n",
       "LOAN_EST                                                    319\n",
       "NOTE                                                        239\n",
       "CPL                                                         225\n",
       "HOMEOWNERSHIP_COUNSELING_ORG_LIST                           222\n",
       "FORM4506-T                                                  218\n",
       "WARRANTY_DEED                                               131\n",
       "VERBAL_VOE                                                  123\n",
       "PATRIOT                                                     104\n",
       "Credit Inquiry                                               90\n",
       "LOCK_CONFORMATION                                            85\n",
       "HOI                                                          83\n",
       "ESCROW                                                       82\n",
       "Survey                                                       81\n",
       "APPRAISAL_DELIVERY_WAIVER/CONSENT_AND_INTENT_TO_PROCEED      72\n",
       "EQUAL_CREDIT_OPPURTUNITY_ACT                                 69\n",
       "FLOOD_INSURANCE                                              65\n",
       "CREDIT_INQUIRY                                               65\n",
       "ACK_HOMEOWNERSHIP_COUNSELING_ORG_LIST                        63\n",
       "STEERING                                                     61\n",
       "COC                                                          60\n",
       "APPROVAL                                                     60\n",
       "WIRING_INST                                                  60\n",
       "Policy Endorsement                                           58\n",
       "APPRAISAL_REPORT_INVOICE                                     58\n",
       "FLOOD                                                        57\n",
       "BUSSINESS_ARRANGEMENT_DISC_STATEMENT                         57\n",
       "Third Party Processing Invoice                               55\n",
       "CHAIN_TITLE                                                  53\n",
       "IMPORTANT_NOTICE_TO_HOMEBUYERS                               44\n",
       "QM_BREAKDOWN                                                 42\n",
       "Notice of Ad Valorem Tax                                     41\n",
       "Survey Invoice                                               35\n",
       "CONSENT_AND_INTENT_TO_PROCEED                                33\n",
       "HOI Invoice                                                  27\n",
       "APPRAISAL_DELIVERY_WAIVER                                    23\n",
       "INFORMED_CHOICE_DISCLOSURE_NOTICE                            17\n",
       "NOTICE_TO_HOMEOWNER                                          15\n",
       "PURCHASE_CONTRACT_ADDENDUM                                   14\n",
       "FHA_IDENTITY_OF_INTEREST_CERTIFICATION                       10\n",
       "PURCHASE_CONTRACT_EXTENSION_ADDENDUM                          5\n",
       "-                                                             4\n",
       "Chain of Title                                                2\n",
       "Credit Report                                                 1\n",
       "Purchase Contract                                             1\n",
       "INFORMED_CHOICE_DISCLOSURE_NOTICE/                            1\n",
       "Loan Approval                                                 1\n",
       "Note                                                          1\n",
       "Name: Label, dtype: int64"
      ]
     },
     "execution_count": 8,
     "metadata": {},
     "output_type": "execute_result"
    }
   ],
   "source": [
    "train_df['Label'].value_counts()"
   ]
  },
  {
   "cell_type": "code",
   "execution_count": 9,
   "metadata": {},
   "outputs": [],
   "source": [
    "train_df.drop(train_df.loc[train_df['Label']==\"-\"].index, inplace=True)"
   ]
  },
  {
   "cell_type": "code",
   "execution_count": 10,
   "metadata": {},
   "outputs": [
    {
     "data": {
      "text/plain": [
       "None                                                       8065\n",
       "MORTGAGE                                                    891\n",
       "CREDIT_REPORT                                               754\n",
       "FORM1003                                                    716\n",
       "CLOS_DISC                                                   676\n",
       "APPRAISAL                                                   571\n",
       "PURCHASE_CONTRACT                                           449\n",
       "AUS-DU                                                      393\n",
       "TITLE                                                       383\n",
       "LOAN_EST                                                    319\n",
       "NOTE                                                        239\n",
       "CPL                                                         225\n",
       "HOMEOWNERSHIP_COUNSELING_ORG_LIST                           222\n",
       "FORM4506-T                                                  218\n",
       "WARRANTY_DEED                                               131\n",
       "VERBAL_VOE                                                  123\n",
       "PATRIOT                                                     104\n",
       "Credit Inquiry                                               90\n",
       "LOCK_CONFORMATION                                            85\n",
       "HOI                                                          83\n",
       "ESCROW                                                       82\n",
       "Survey                                                       81\n",
       "APPRAISAL_DELIVERY_WAIVER/CONSENT_AND_INTENT_TO_PROCEED      72\n",
       "EQUAL_CREDIT_OPPURTUNITY_ACT                                 69\n",
       "FLOOD_INSURANCE                                              65\n",
       "CREDIT_INQUIRY                                               65\n",
       "ACK_HOMEOWNERSHIP_COUNSELING_ORG_LIST                        63\n",
       "STEERING                                                     61\n",
       "WIRING_INST                                                  60\n",
       "COC                                                          60\n",
       "APPROVAL                                                     60\n",
       "Policy Endorsement                                           58\n",
       "APPRAISAL_REPORT_INVOICE                                     58\n",
       "BUSSINESS_ARRANGEMENT_DISC_STATEMENT                         57\n",
       "FLOOD                                                        57\n",
       "Third Party Processing Invoice                               55\n",
       "CHAIN_TITLE                                                  53\n",
       "IMPORTANT_NOTICE_TO_HOMEBUYERS                               44\n",
       "QM_BREAKDOWN                                                 42\n",
       "Notice of Ad Valorem Tax                                     41\n",
       "Survey Invoice                                               35\n",
       "CONSENT_AND_INTENT_TO_PROCEED                                33\n",
       "HOI Invoice                                                  27\n",
       "APPRAISAL_DELIVERY_WAIVER                                    23\n",
       "INFORMED_CHOICE_DISCLOSURE_NOTICE                            17\n",
       "NOTICE_TO_HOMEOWNER                                          15\n",
       "PURCHASE_CONTRACT_ADDENDUM                                   14\n",
       "FHA_IDENTITY_OF_INTEREST_CERTIFICATION                       10\n",
       "PURCHASE_CONTRACT_EXTENSION_ADDENDUM                          5\n",
       "Chain of Title                                                2\n",
       "Purchase Contract                                             1\n",
       "Credit Report                                                 1\n",
       "INFORMED_CHOICE_DISCLOSURE_NOTICE/                            1\n",
       "Note                                                          1\n",
       "Loan Approval                                                 1\n",
       "Name: Label, dtype: int64"
      ]
     },
     "execution_count": 10,
     "metadata": {},
     "output_type": "execute_result"
    }
   ],
   "source": [
    "train_df['Label'].value_counts()"
   ]
  },
  {
   "cell_type": "code",
   "execution_count": 11,
   "metadata": {},
   "outputs": [],
   "source": [
    "# Lets create training dataset for binary classification which will separate None type from other classes\n",
    "None_df = train_df[train_df['Label'] == \"None\"]\n",
    "other_df = train_df[train_df['Label'] != \"None\"]"
   ]
  },
  {
   "cell_type": "code",
   "execution_count": 12,
   "metadata": {},
   "outputs": [
    {
     "data": {
      "text/html": [
       "<div>\n",
       "<style scoped>\n",
       "    .dataframe tbody tr th:only-of-type {\n",
       "        vertical-align: middle;\n",
       "    }\n",
       "\n",
       "    .dataframe tbody tr th {\n",
       "        vertical-align: top;\n",
       "    }\n",
       "\n",
       "    .dataframe thead th {\n",
       "        text-align: right;\n",
       "    }\n",
       "</style>\n",
       "<table border=\"1\" class=\"dataframe\">\n",
       "  <thead>\n",
       "    <tr style=\"text-align: right;\">\n",
       "      <th></th>\n",
       "      <th>Label</th>\n",
       "      <th>Text</th>\n",
       "    </tr>\n",
       "  </thead>\n",
       "  <tbody>\n",
       "    <tr>\n",
       "      <th>8065</th>\n",
       "      <td>None</td>\n",
       "      <td>UWMEffective Date:23-Jan-18Lock Hours: 10:30 A...</td>\n",
       "    </tr>\n",
       "    <tr>\n",
       "      <th>8066</th>\n",
       "      <td>None</td>\n",
       "      <td>HUD/IVA Addendum to Uniform Residential Loan A...</td>\n",
       "    </tr>\n",
       "  </tbody>\n",
       "</table>\n",
       "</div>"
      ],
      "text/plain": [
       "     Label                                               Text\n",
       "8065  None  UWMEffective Date:23-Jan-18Lock Hours: 10:30 A...\n",
       "8066  None  HUD/IVA Addendum to Uniform Residential Loan A..."
      ]
     },
     "execution_count": 12,
     "metadata": {},
     "output_type": "execute_result"
    }
   ],
   "source": [
    "None_df.head(2)"
   ]
  },
  {
   "cell_type": "code",
   "execution_count": 13,
   "metadata": {},
   "outputs": [
    {
     "data": {
      "text/html": [
       "<div>\n",
       "<style scoped>\n",
       "    .dataframe tbody tr th:only-of-type {\n",
       "        vertical-align: middle;\n",
       "    }\n",
       "\n",
       "    .dataframe tbody tr th {\n",
       "        vertical-align: top;\n",
       "    }\n",
       "\n",
       "    .dataframe thead th {\n",
       "        text-align: right;\n",
       "    }\n",
       "</style>\n",
       "<table border=\"1\" class=\"dataframe\">\n",
       "  <thead>\n",
       "    <tr style=\"text-align: right;\">\n",
       "      <th></th>\n",
       "      <th>Label</th>\n",
       "      <th>Text</th>\n",
       "    </tr>\n",
       "  </thead>\n",
       "  <tbody>\n",
       "    <tr>\n",
       "      <th>0</th>\n",
       "      <td>CLOS_DISC</td>\n",
       "      <td>Closing DisclosureThis form is a statement of ...</td>\n",
       "    </tr>\n",
       "    <tr>\n",
       "      <th>1</th>\n",
       "      <td>CLOS_DISC</td>\n",
       "      <td>Closing Cost DetailsBorrower-PaidSeller-PaldLo...</td>\n",
       "    </tr>\n",
       "  </tbody>\n",
       "</table>\n",
       "</div>"
      ],
      "text/plain": [
       "       Label                                               Text\n",
       "0  CLOS_DISC  Closing DisclosureThis form is a statement of ...\n",
       "1  CLOS_DISC  Closing Cost DetailsBorrower-PaidSeller-PaldLo..."
      ]
     },
     "execution_count": 13,
     "metadata": {},
     "output_type": "execute_result"
    }
   ],
   "source": [
    "other_df.head(2)"
   ]
  },
  {
   "cell_type": "code",
   "execution_count": 14,
   "metadata": {},
   "outputs": [
    {
     "name": "stderr",
     "output_type": "stream",
     "text": [
      "C:\\ProgramData\\Anaconda3\\lib\\site-packages\\ipykernel_launcher.py:1: SettingWithCopyWarning: \n",
      "A value is trying to be set on a copy of a slice from a DataFrame.\n",
      "Try using .loc[row_indexer,col_indexer] = value instead\n",
      "\n",
      "See the caveats in the documentation: http://pandas.pydata.org/pandas-docs/stable/user_guide/indexing.html#returning-a-view-versus-a-copy\n",
      "  \"\"\"Entry point for launching an IPython kernel.\n",
      "C:\\ProgramData\\Anaconda3\\lib\\site-packages\\ipykernel_launcher.py:2: SettingWithCopyWarning: \n",
      "A value is trying to be set on a copy of a slice from a DataFrame.\n",
      "Try using .loc[row_indexer,col_indexer] = value instead\n",
      "\n",
      "See the caveats in the documentation: http://pandas.pydata.org/pandas-docs/stable/user_guide/indexing.html#returning-a-view-versus-a-copy\n",
      "  \n"
     ]
    }
   ],
   "source": [
    "None_df['Label'] = 0\n",
    "other_df['Label']= 1"
   ]
  },
  {
   "cell_type": "code",
   "execution_count": 15,
   "metadata": {},
   "outputs": [
    {
     "data": {
      "text/html": [
       "<div>\n",
       "<style scoped>\n",
       "    .dataframe tbody tr th:only-of-type {\n",
       "        vertical-align: middle;\n",
       "    }\n",
       "\n",
       "    .dataframe tbody tr th {\n",
       "        vertical-align: top;\n",
       "    }\n",
       "\n",
       "    .dataframe thead th {\n",
       "        text-align: right;\n",
       "    }\n",
       "</style>\n",
       "<table border=\"1\" class=\"dataframe\">\n",
       "  <thead>\n",
       "    <tr style=\"text-align: right;\">\n",
       "      <th></th>\n",
       "      <th>Label</th>\n",
       "      <th>Text</th>\n",
       "    </tr>\n",
       "  </thead>\n",
       "  <tbody>\n",
       "    <tr>\n",
       "      <th>8065</th>\n",
       "      <td>0</td>\n",
       "      <td>UWMEffective Date:23-Jan-18Lock Hours: 10:30 A...</td>\n",
       "    </tr>\n",
       "    <tr>\n",
       "      <th>8066</th>\n",
       "      <td>0</td>\n",
       "      <td>HUD/IVA Addendum to Uniform Residential Loan A...</td>\n",
       "    </tr>\n",
       "  </tbody>\n",
       "</table>\n",
       "</div>"
      ],
      "text/plain": [
       "      Label                                               Text\n",
       "8065      0  UWMEffective Date:23-Jan-18Lock Hours: 10:30 A...\n",
       "8066      0  HUD/IVA Addendum to Uniform Residential Loan A..."
      ]
     },
     "execution_count": 15,
     "metadata": {},
     "output_type": "execute_result"
    }
   ],
   "source": [
    "None_df.head(2)"
   ]
  },
  {
   "cell_type": "code",
   "execution_count": 16,
   "metadata": {},
   "outputs": [
    {
     "data": {
      "text/html": [
       "<div>\n",
       "<style scoped>\n",
       "    .dataframe tbody tr th:only-of-type {\n",
       "        vertical-align: middle;\n",
       "    }\n",
       "\n",
       "    .dataframe tbody tr th {\n",
       "        vertical-align: top;\n",
       "    }\n",
       "\n",
       "    .dataframe thead th {\n",
       "        text-align: right;\n",
       "    }\n",
       "</style>\n",
       "<table border=\"1\" class=\"dataframe\">\n",
       "  <thead>\n",
       "    <tr style=\"text-align: right;\">\n",
       "      <th></th>\n",
       "      <th>Label</th>\n",
       "      <th>Text</th>\n",
       "    </tr>\n",
       "  </thead>\n",
       "  <tbody>\n",
       "    <tr>\n",
       "      <th>0</th>\n",
       "      <td>1</td>\n",
       "      <td>Closing DisclosureThis form is a statement of ...</td>\n",
       "    </tr>\n",
       "    <tr>\n",
       "      <th>1</th>\n",
       "      <td>1</td>\n",
       "      <td>Closing Cost DetailsBorrower-PaidSeller-PaldLo...</td>\n",
       "    </tr>\n",
       "  </tbody>\n",
       "</table>\n",
       "</div>"
      ],
      "text/plain": [
       "   Label                                               Text\n",
       "0      1  Closing DisclosureThis form is a statement of ...\n",
       "1      1  Closing Cost DetailsBorrower-PaidSeller-PaldLo..."
      ]
     },
     "execution_count": 16,
     "metadata": {},
     "output_type": "execute_result"
    }
   ],
   "source": [
    "other_df.head(2)"
   ]
  },
  {
   "cell_type": "code",
   "execution_count": 17,
   "metadata": {},
   "outputs": [
    {
     "name": "stdout",
     "output_type": "stream",
     "text": [
      "8065\n",
      "8061\n"
     ]
    }
   ],
   "source": [
    "print(len(None_df))\n",
    "print(len(other_df))"
   ]
  },
  {
   "cell_type": "markdown",
   "metadata": {},
   "source": [
    "# Now it seemed balanced"
   ]
  },
  {
   "cell_type": "code",
   "execution_count": 18,
   "metadata": {},
   "outputs": [],
   "source": [
    "final_binary_train_df = None_df.append(other_df)"
   ]
  },
  {
   "cell_type": "code",
   "execution_count": 19,
   "metadata": {},
   "outputs": [
    {
     "name": "stdout",
     "output_type": "stream",
     "text": [
      "<class 'pandas.core.frame.DataFrame'>\n",
      "Int64Index: 16126 entries, 8065 to 8064\n",
      "Data columns (total 2 columns):\n",
      "Label    16126 non-null int64\n",
      "Text     16126 non-null object\n",
      "dtypes: int64(1), object(1)\n",
      "memory usage: 378.0+ KB\n"
     ]
    }
   ],
   "source": [
    "final_binary_train_df.info()"
   ]
  },
  {
   "cell_type": "code",
   "execution_count": 20,
   "metadata": {},
   "outputs": [
    {
     "data": {
      "text/plain": [
       "<matplotlib.axes._subplots.AxesSubplot at 0x23564fc99e8>"
      ]
     },
     "execution_count": 20,
     "metadata": {},
     "output_type": "execute_result"
    },
    {
     "data": {
      "image/png": "[encoded data removed]",
      "text/plain": [
       "<Figure size 432x288 with 1 Axes>"
      ]
     },
     "metadata": {
      "needs_background": "light"
     },
     "output_type": "display_data"
    }
   ],
   "source": [
    "final_binary_train_df['Label'].value_counts().plot(kind='bar')"
   ]
  },
  {
   "cell_type": "code",
   "execution_count": 21,
   "metadata": {},
   "outputs": [],
   "source": [
    "final_binary_train_df['processed_Text'] = final_binary_train_df['Text'].apply(clean)"
   ]
  },
  {
   "cell_type": "code",
   "execution_count": 22,
   "metadata": {},
   "outputs": [],
   "source": [
    "final_binary_train_df.drop(['Text'], axis=1, inplace=True)"
   ]
  },
  {
   "cell_type": "code",
   "execution_count": 23,
   "metadata": {},
   "outputs": [
    {
     "data": {
      "text/plain": [
       "array([0, 1], dtype=int64)"
      ]
     },
     "execution_count": 23,
     "metadata": {},
     "output_type": "execute_result"
    }
   ],
   "source": [
    "lb = LabelBinarizer()\n",
    "lb.fit(final_binary_train_df['Label'])\n",
    "lb.classes_"
   ]
  },
  {
   "cell_type": "code",
   "execution_count": 24,
   "metadata": {},
   "outputs": [],
   "source": [
    "train_b, test_b = train_test_split(final_binary_train_df, test_size=0.2, stratify=final_binary_train_df['Label'], random_state=42)"
   ]
  },
  {
   "cell_type": "code",
   "execution_count": 25,
   "metadata": {},
   "outputs": [],
   "source": [
    "X_train_b_raw = train_b['processed_Text'].copy()\n",
    "X_test_b_raw = test_b['processed_Text'].copy()\n",
    "y_train_b = lb.transform(train_b['Label'])\n",
    "y_test_b = lb.transform(test_b['Label'])"
   ]
  },
  {
   "cell_type": "code",
   "execution_count": 26,
   "metadata": {},
   "outputs": [],
   "source": [
    "tokenizer_b = Tokenizer()\n",
    "tokenizer_b.fit_on_texts(X_train_b_raw)"
   ]
  },
  {
   "cell_type": "code",
   "execution_count": 69,
   "metadata": {},
   "outputs": [
    {
     "data": {
      "text/plain": [
       "CountVectorizer(analyzer='word', binary=False, decode_error='strict',\n",
       "                dtype=<class 'numpy.int64'>, encoding='utf-8', input='content',\n",
       "                lowercase=True, max_df=1.0, max_features=None, min_df=1,\n",
       "                ngram_range=(1, 1), preprocessor=None, stop_words=None,\n",
       "                strip_accents=None, token_pattern='(?u)\\\\b\\\\w\\\\w+\\\\b',\n",
       "                tokenizer=None, vocabulary=None)"
      ]
     },
     "execution_count": 69,
     "metadata": {},
     "output_type": "execute_result"
    }
   ],
   "source": [
    "vectorizer = CountVectorizer()\n",
    "vectorizer.fit(X_train_b_raw)"
   ]
  },
  {
   "cell_type": "code",
   "execution_count": 70,
   "metadata": {},
   "outputs": [],
   "source": [
    "X_train_b = vectorizer.transform(X_train_b_raw)\n",
    "X_test_b  = vectorizer.transform(X_test_b_raw)"
   ]
  },
  {
   "cell_type": "code",
   "execution_count": 71,
   "metadata": {},
   "outputs": [
    {
     "data": {
      "text/plain": [
       "<12900x133135 sparse matrix of type '<class 'numpy.int64'>'\n",
       "\twith 1517028 stored elements in Compressed Sparse Row format>"
      ]
     },
     "execution_count": 71,
     "metadata": {},
     "output_type": "execute_result"
    }
   ],
   "source": [
    "X_train_b"
   ]
  },
  {
   "cell_type": "code",
   "execution_count": 72,
   "metadata": {},
   "outputs": [
    {
     "data": {
      "text/plain": [
       "<3226x133135 sparse matrix of type '<class 'numpy.int64'>'\n",
       "\twith 354831 stored elements in Compressed Sparse Row format>"
      ]
     },
     "execution_count": 72,
     "metadata": {},
     "output_type": "execute_result"
    }
   ],
   "source": [
    "X_test_b"
   ]
  },
  {
   "cell_type": "code",
   "execution_count": 27,
   "metadata": {},
   "outputs": [],
   "source": [
    "X_train_b = tokenizer_b.texts_to_matrix(X_train_b_raw, mode='tfidf')\n",
    "X_test_b = tokenizer_b.texts_to_matrix(X_test_b_raw, mode='tfidf')"
   ]
  },
  {
   "cell_type": "code",
   "execution_count": 28,
   "metadata": {},
   "outputs": [
    {
     "data": {
      "text/plain": [
       "(12900, 133160)"
      ]
     },
     "execution_count": 28,
     "metadata": {},
     "output_type": "execute_result"
    }
   ],
   "source": [
    "X_train_b.shape"
   ]
  },
  {
   "cell_type": "code",
   "execution_count": 29,
   "metadata": {},
   "outputs": [
    {
     "data": {
      "text/plain": [
       "(3226, 133160)"
      ]
     },
     "execution_count": 29,
     "metadata": {},
     "output_type": "execute_result"
    }
   ],
   "source": [
    "X_test_b.shape"
   ]
  },
  {
   "cell_type": "code",
   "execution_count": 60,
   "metadata": {},
   "outputs": [],
   "source": [
    "X_train_b = X_train_b[:,0:1000]\n",
    "X_test_b = X_test_b[:,0:1000]"
   ]
  },
  {
   "cell_type": "code",
   "execution_count": 61,
   "metadata": {},
   "outputs": [
    {
     "data": {
      "text/plain": [
       "(12900, 1000)"
      ]
     },
     "execution_count": 61,
     "metadata": {},
     "output_type": "execute_result"
    }
   ],
   "source": [
    "X_train_b.shape"
   ]
  },
  {
   "cell_type": "code",
   "execution_count": 62,
   "metadata": {},
   "outputs": [
    {
     "data": {
      "text/plain": [
       "(3226, 1000)"
      ]
     },
     "execution_count": 62,
     "metadata": {},
     "output_type": "execute_result"
    }
   ],
   "source": [
    "X_test_b.shape"
   ]
  },
  {
   "cell_type": "code",
   "execution_count": 89,
   "metadata": {},
   "outputs": [],
   "source": [
    "\n",
    "def binaryModel():\n",
    "    model = Sequential()\n",
    "    model.add(Dense(50, input_shape=(X_train_b.shape[1],)))\n",
    "    model.add(Activation('relu'))\n",
    "    model.add(Dropout(0.5))\n",
    "    model.add(Dense(100))\n",
    "    model.add(Activation('relu'))\n",
    "    model.add(Dropout(0.4))\n",
    "    model.add(Dense(50))\n",
    "    model.add(Activation('relu'))\n",
    "    model.add(Dropout(0.4))\n",
    "    model.add(Dense(1))\n",
    "    model.add(Activation('sigmoid'))\n",
    "    model.compile(loss='binary_crossentropy', optimizer='adam', metrics=['accuracy'])\n",
    "    return model"
   ]
  },
  {
   "cell_type": "code",
   "execution_count": 90,
   "metadata": {},
   "outputs": [
    {
     "name": "stdout",
     "output_type": "stream",
     "text": [
      "Epoch 1/100\n",
      "13/13 [==============================] - 1s 112ms/step - loss: 0.6003 - accuracy: 0.6964\n",
      "Epoch 2/100\n",
      "13/13 [==============================] - 1s 108ms/step - loss: 0.3542 - accuracy: 0.8988\n",
      "Epoch 3/100\n",
      "13/13 [==============================] - 1s 104ms/step - loss: 0.2240 - accuracy: 0.9394\n",
      "Epoch 4/100\n",
      "13/13 [==============================] - 1s 103ms/step - loss: 0.1547 - accuracy: 0.9590\n",
      "Epoch 5/100\n",
      "13/13 [==============================] - 1s 102ms/step - loss: 0.1219 - accuracy: 0.9669\n",
      "Epoch 6/100\n",
      "13/13 [==============================] - 1s 95ms/step - loss: 0.0913 - accuracy: 0.9754\n",
      "Epoch 7/100\n",
      "13/13 [==============================] - 1s 97ms/step - loss: 0.0800 - accuracy: 0.9764\n",
      "Epoch 8/100\n",
      "13/13 [==============================] - 1s 96ms/step - loss: 0.0626 - accuracy: 0.9822\n",
      "Epoch 9/100\n",
      "13/13 [==============================] - 1s 97ms/step - loss: 0.0564 - accuracy: 0.9822\n",
      "Epoch 10/100\n",
      "13/13 [==============================] - 1s 99ms/step - loss: 0.0494 - accuracy: 0.9855\n",
      "Epoch 11/100\n",
      "13/13 [==============================] - 1s 98ms/step - loss: 0.0496 - accuracy: 0.9846\n",
      "Epoch 12/100\n",
      "13/13 [==============================] - 1s 102ms/step - loss: 0.0411 - accuracy: 0.9857\n",
      "Epoch 13/100\n",
      "13/13 [==============================] - 1s 104ms/step - loss: 0.0423 - accuracy: 0.9863\n",
      "Epoch 14/100\n",
      "13/13 [==============================] - 1s 100ms/step - loss: 0.0423 - accuracy: 0.9860\n",
      "Epoch 15/100\n",
      "13/13 [==============================] - 1s 95ms/step - loss: 0.0362 - accuracy: 0.9864\n",
      "Epoch 16/100\n",
      "13/13 [==============================] - 1s 101ms/step - loss: 0.0324 - accuracy: 0.9879\n",
      "Epoch 17/100\n",
      "13/13 [==============================] - 1s 107ms/step - loss: 0.0336 - accuracy: 0.9864\n",
      "Epoch 18/100\n",
      "13/13 [==============================] - 1s 98ms/step - loss: 0.0306 - accuracy: 0.9893\n",
      "Epoch 19/100\n",
      "13/13 [==============================] - 1s 98ms/step - loss: 0.0323 - accuracy: 0.9881\n",
      "Epoch 20/100\n",
      "13/13 [==============================] - 1s 100ms/step - loss: 0.0273 - accuracy: 0.9892\n",
      "Epoch 21/100\n",
      "13/13 [==============================] - 1s 97ms/step - loss: 0.0275 - accuracy: 0.9895\n",
      "Epoch 22/100\n",
      "13/13 [==============================] - 1s 97ms/step - loss: 0.0288 - accuracy: 0.9892\n",
      "Epoch 23/100\n",
      "13/13 [==============================] - 1s 99ms/step - loss: 0.0269 - accuracy: 0.9892\n",
      "Epoch 24/100\n",
      "13/13 [==============================] - 1s 103ms/step - loss: 0.0243 - accuracy: 0.9903\n",
      "Epoch 25/100\n",
      "13/13 [==============================] - 1s 104ms/step - loss: 0.0293 - accuracy: 0.9888\n",
      "Epoch 26/100\n",
      "13/13 [==============================] - 1s 102ms/step - loss: 0.0295 - accuracy: 0.9898\n",
      "Epoch 27/100\n",
      "13/13 [==============================] - 1s 105ms/step - loss: 0.0269 - accuracy: 0.9888\n",
      "Epoch 28/100\n",
      "13/13 [==============================] - 1s 97ms/step - loss: 0.0254 - accuracy: 0.9897\n",
      "Epoch 29/100\n",
      "13/13 [==============================] - 1s 98ms/step - loss: 0.0255 - accuracy: 0.9894\n",
      "Epoch 30/100\n",
      "13/13 [==============================] - 1s 102ms/step - loss: 0.0233 - accuracy: 0.9908\n",
      "Epoch 31/100\n",
      "13/13 [==============================] - 1s 100ms/step - loss: 0.0259 - accuracy: 0.9894\n",
      "Epoch 32/100\n",
      "13/13 [==============================] - 1s 103ms/step - loss: 0.0234 - accuracy: 0.9881\n",
      "Epoch 33/100\n",
      "13/13 [==============================] - 1s 98ms/step - loss: 0.0222 - accuracy: 0.9898\n",
      "Epoch 34/100\n",
      "13/13 [==============================] - 1s 99ms/step - loss: 0.0275 - accuracy: 0.9891\n",
      "Epoch 35/100\n",
      "13/13 [==============================] - 1s 103ms/step - loss: 0.0235 - accuracy: 0.9898\n",
      "Epoch 36/100\n",
      "13/13 [==============================] - 1s 96ms/step - loss: 0.0239 - accuracy: 0.9897\n",
      "Epoch 37/100\n",
      "13/13 [==============================] - 1s 106ms/step - loss: 0.0243 - accuracy: 0.9895\n",
      "Epoch 38/100\n",
      "13/13 [==============================] - 1s 110ms/step - loss: 0.0268 - accuracy: 0.9891\n",
      "Epoch 39/100\n",
      "13/13 [==============================] - 1s 106ms/step - loss: 0.0227 - accuracy: 0.9902\n",
      "Epoch 40/100\n",
      "13/13 [==============================] - 1s 102ms/step - loss: 0.0228 - accuracy: 0.9898\n",
      "Epoch 41/100\n",
      "13/13 [==============================] - 1s 106ms/step - loss: 0.0227 - accuracy: 0.9888\n",
      "Epoch 42/100\n",
      "13/13 [==============================] - 2s 116ms/step - loss: 0.0220 - accuracy: 0.9908\n",
      "Epoch 43/100\n",
      "13/13 [==============================] - 1s 105ms/step - loss: 0.0211 - accuracy: 0.9904\n",
      "Epoch 44/100\n",
      "13/13 [==============================] - 1s 101ms/step - loss: 0.0238 - accuracy: 0.9898\n",
      "Epoch 45/100\n",
      "13/13 [==============================] - 1s 101ms/step - loss: 0.0206 - accuracy: 0.9905\n",
      "Epoch 46/100\n",
      "13/13 [==============================] - 1s 97ms/step - loss: 0.0241 - accuracy: 0.9897\n",
      "Epoch 47/100\n",
      "13/13 [==============================] - 1s 103ms/step - loss: 0.0231 - accuracy: 0.9882\n",
      "Epoch 48/100\n",
      "13/13 [==============================] - 1s 100ms/step - loss: 0.0274 - accuracy: 0.9895\n",
      "Epoch 49/100\n",
      "13/13 [==============================] - 1s 99ms/step - loss: 0.0206 - accuracy: 0.9899\n",
      "Epoch 50/100\n",
      "13/13 [==============================] - 1s 99ms/step - loss: 0.0222 - accuracy: 0.9896\n",
      "Epoch 51/100\n",
      "13/13 [==============================] - 1s 103ms/step - loss: 0.0218 - accuracy: 0.9896\n",
      "Epoch 52/100\n",
      "13/13 [==============================] - 1s 100ms/step - loss: 0.0214 - accuracy: 0.9890\n",
      "Epoch 53/100\n",
      "13/13 [==============================] - 1s 101ms/step - loss: 0.0189 - accuracy: 0.9903\n",
      "Epoch 54/100\n",
      "13/13 [==============================] - 1s 98ms/step - loss: 0.0189 - accuracy: 0.9902\n",
      "Epoch 55/100\n",
      "13/13 [==============================] - 1s 102ms/step - loss: 0.0190 - accuracy: 0.9909\n",
      "Epoch 56/100\n",
      "13/13 [==============================] - 1s 99ms/step - loss: 0.0231 - accuracy: 0.9900\n",
      "Epoch 57/100\n",
      "13/13 [==============================] - 1s 98ms/step - loss: 0.0200 - accuracy: 0.9906\n",
      "Epoch 58/100\n",
      "13/13 [==============================] - 1s 98ms/step - loss: 0.0213 - accuracy: 0.9902\n",
      "Epoch 59/100\n",
      "13/13 [==============================] - 1s 98ms/step - loss: 0.0186 - accuracy: 0.9910\n",
      "Epoch 60/100\n",
      "13/13 [==============================] - 1s 104ms/step - loss: 0.0203 - accuracy: 0.9909\n",
      "Epoch 61/100\n",
      "13/13 [==============================] - 1s 101ms/step - loss: 0.0211 - accuracy: 0.9916\n",
      "Epoch 62/100\n",
      "13/13 [==============================] - 1s 103ms/step - loss: 0.0210 - accuracy: 0.9901\n",
      "Epoch 63/100\n",
      "13/13 [==============================] - 1s 100ms/step - loss: 0.0175 - accuracy: 0.9919\n",
      "Epoch 64/100\n",
      "13/13 [==============================] - 1s 105ms/step - loss: 0.0195 - accuracy: 0.9902\n",
      "Epoch 65/100\n",
      "13/13 [==============================] - 1s 102ms/step - loss: 0.0219 - accuracy: 0.9898\n",
      "Epoch 66/100\n",
      "13/13 [==============================] - 1s 101ms/step - loss: 0.0186 - accuracy: 0.9919\n",
      "Epoch 67/100\n",
      "13/13 [==============================] - 1s 98ms/step - loss: 0.0193 - accuracy: 0.9902\n",
      "Epoch 68/100\n",
      "13/13 [==============================] - 1s 104ms/step - loss: 0.0176 - accuracy: 0.9906\n",
      "Epoch 69/100\n",
      "13/13 [==============================] - 1s 98ms/step - loss: 0.0193 - accuracy: 0.9909\n",
      "Epoch 70/100\n",
      "13/13 [==============================] - 1s 103ms/step - loss: 0.0202 - accuracy: 0.9908\n",
      "Epoch 71/100\n",
      "13/13 [==============================] - 1s 99ms/step - loss: 0.0204 - accuracy: 0.9913\n",
      "Epoch 72/100\n",
      "13/13 [==============================] - 1s 104ms/step - loss: 0.0177 - accuracy: 0.9906\n",
      "Epoch 73/100\n",
      "13/13 [==============================] - 1s 102ms/step - loss: 0.0199 - accuracy: 0.9904\n",
      "Epoch 74/100\n",
      "13/13 [==============================] - 1s 100ms/step - loss: 0.0168 - accuracy: 0.9905\n",
      "Epoch 75/100\n",
      "13/13 [==============================] - 1s 102ms/step - loss: 0.0163 - accuracy: 0.9905\n",
      "Epoch 76/100\n",
      "13/13 [==============================] - 1s 102ms/step - loss: 0.0172 - accuracy: 0.9913\n",
      "Epoch 77/100\n",
      "13/13 [==============================] - 1s 99ms/step - loss: 0.0180 - accuracy: 0.9897\n",
      "Epoch 78/100\n",
      "13/13 [==============================] - 1s 99ms/step - loss: 0.0170 - accuracy: 0.9926\n",
      "Epoch 79/100\n",
      "13/13 [==============================] - 1s 100ms/step - loss: 0.0174 - accuracy: 0.9909\n",
      "Epoch 80/100\n",
      "13/13 [==============================] - 1s 103ms/step - loss: 0.0195 - accuracy: 0.9896\n",
      "Epoch 81/100\n"
     ]
    },
    {
     "name": "stdout",
     "output_type": "stream",
     "text": [
      "13/13 [==============================] - 1s 100ms/step - loss: 0.0180 - accuracy: 0.9907\n",
      "Epoch 82/100\n",
      "13/13 [==============================] - 1s 100ms/step - loss: 0.0203 - accuracy: 0.9912\n",
      "Epoch 83/100\n",
      "13/13 [==============================] - 1s 98ms/step - loss: 0.0191 - accuracy: 0.9902\n",
      "Epoch 84/100\n",
      "13/13 [==============================] - 1s 100ms/step - loss: 0.0185 - accuracy: 0.9908\n",
      "Epoch 85/100\n",
      "13/13 [==============================] - 1s 105ms/step - loss: 0.0171 - accuracy: 0.9898\n",
      "Epoch 86/100\n",
      "13/13 [==============================] - 1s 101ms/step - loss: 0.0180 - accuracy: 0.9912\n",
      "Epoch 87/100\n",
      "13/13 [==============================] - 1s 99ms/step - loss: 0.0160 - accuracy: 0.9906\n",
      "Epoch 88/100\n",
      "13/13 [==============================] - 1s 98ms/step - loss: 0.0175 - accuracy: 0.9912\n",
      "Epoch 89/100\n",
      "13/13 [==============================] - 1s 104ms/step - loss: 0.0176 - accuracy: 0.9902\n",
      "Epoch 90/100\n",
      "13/13 [==============================] - 1s 101ms/step - loss: 0.0182 - accuracy: 0.9902\n",
      "Epoch 91/100\n",
      "13/13 [==============================] - 1s 98ms/step - loss: 0.0176 - accuracy: 0.9895\n",
      "Epoch 92/100\n",
      "13/13 [==============================] - 1s 99ms/step - loss: 0.0213 - accuracy: 0.9899\n",
      "Epoch 93/100\n",
      "13/13 [==============================] - 1s 98ms/step - loss: 0.0161 - accuracy: 0.9909\n",
      "Epoch 94/100\n",
      "13/13 [==============================] - 1s 102ms/step - loss: 0.0167 - accuracy: 0.9902\n",
      "Epoch 95/100\n",
      "13/13 [==============================] - 1s 98ms/step - loss: 0.0168 - accuracy: 0.9909\n",
      "Epoch 96/100\n",
      "13/13 [==============================] - 1s 98ms/step - loss: 0.0154 - accuracy: 0.9919\n",
      "Epoch 97/100\n",
      "13/13 [==============================] - 1s 100ms/step - loss: 0.0159 - accuracy: 0.9926\n",
      "Epoch 98/100\n",
      "13/13 [==============================] - 1s 104ms/step - loss: 0.0178 - accuracy: 0.9912\n",
      "Epoch 99/100\n",
      "13/13 [==============================] - 1s 107ms/step - loss: 0.0177 - accuracy: 0.9907\n",
      "Epoch 100/100\n",
      "13/13 [==============================] - 1s 101ms/step - loss: 0.0170 - accuracy: 0.9911\n",
      "Wall time: 2min 29s\n"
     ]
    }
   ],
   "source": [
    "\n",
    "%%time\n",
    "model = binaryModel()\n",
    "history = model.fit(X_train_b, y_train_b, batch_size=1024, epochs=100, verbose=1)"
   ]
  },
  {
   "cell_type": "code",
   "execution_count": 91,
   "metadata": {},
   "outputs": [
    {
     "name": "stdout",
     "output_type": "stream",
     "text": [
      "Training accuracy: 0.98%\n"
     ]
    }
   ],
   "source": [
    "print(f\"Training accuracy: {np.mean(history.history['accuracy']):.2}%\")"
   ]
  },
  {
   "cell_type": "code",
   "execution_count": 92,
   "metadata": {},
   "outputs": [
    {
     "name": "stdout",
     "output_type": "stream",
     "text": [
      "Test accuracy: 0.94%\n"
     ]
    }
   ],
   "source": [
    "# Test data\n",
    "scores = model.evaluate(X_test_b, y_test_b, verbose=0)\n",
    "print(f\"Test accuracy: {scores[1]:.2}%\")"
   ]
  },
  {
   "cell_type": "code",
   "execution_count": 93,
   "metadata": {},
   "outputs": [
    {
     "name": "stdout",
     "output_type": "stream",
     "text": [
      "WARNING:tensorflow:From <ipython-input-93-6e0c9f5707d8>:1: Sequential.predict_classes (from tensorflow.python.keras.engine.sequential) is deprecated and will be removed after 2021-01-01.\n",
      "Instructions for updating:\n",
      "Please use instead:* `np.argmax(model.predict(x), axis=-1)`,   if your model does multi-class classification   (e.g. if it uses a `softmax` last-layer activation).* `(model.predict(x) > 0.5).astype(\"int32\")`,   if your model does binary classification   (e.g. if it uses a `sigmoid` last-layer activation).\n"
     ]
    }
   ],
   "source": [
    "y_hat_test = [lb.classes_[pred] for pred in model.predict_classes(X_test_b)]"
   ]
  },
  {
   "cell_type": "code",
   "execution_count": 95,
   "metadata": {},
   "outputs": [
    {
     "data": {
      "image/png": "[encoded data removed]",
      "text/plain": [
       "<Figure size 720x576 with 2 Axes>"
      ]
     },
     "metadata": {
      "needs_background": "light"
     },
     "output_type": "display_data"
    }
   ],
   "source": [
    "fig, ax = plt.subplots(figsize=(10, 8))\n",
    "sns.heatmap(confusion_matrix(y_test_b, y_hat_test), \n",
    "            annot=True, fmt='',\n",
    "            xticklabels=lb.classes_,\n",
    "            yticklabels=lb.classes_, ax=ax)\n",
    "ax.set(title='Confusion matrix', xlabel='Predicted', ylabel='Actual')\n",
    "plt.show()"
   ]
  },
  {
   "cell_type": "markdown",
   "metadata": {},
   "source": [
    "## Lest do multi classificaiton now"
   ]
  },
  {
   "cell_type": "code",
   "execution_count": 100,
   "metadata": {},
   "outputs": [],
   "source": [
    "multi_train_df = train_df[train_df['Label'] != 'None']"
   ]
  },
  {
   "cell_type": "code",
   "execution_count": 101,
   "metadata": {},
   "outputs": [
    {
     "name": "stdout",
     "output_type": "stream",
     "text": [
      "<class 'pandas.core.frame.DataFrame'>\n",
      "Int64Index: 8061 entries, 0 to 8064\n",
      "Data columns (total 2 columns):\n",
      "Label    8061 non-null object\n",
      "Text     8061 non-null object\n",
      "dtypes: object(2)\n",
      "memory usage: 188.9+ KB\n"
     ]
    }
   ],
   "source": [
    "multi_train_df.info()"
   ]
  },
  {
   "cell_type": "code",
   "execution_count": 102,
   "metadata": {},
   "outputs": [
    {
     "data": {
      "text/plain": [
       "MORTGAGE                                                   891\n",
       "CREDIT_REPORT                                              754\n",
       "FORM1003                                                   716\n",
       "CLOS_DISC                                                  676\n",
       "APPRAISAL                                                  571\n",
       "PURCHASE_CONTRACT                                          449\n",
       "AUS-DU                                                     393\n",
       "TITLE                                                      383\n",
       "LOAN_EST                                                   319\n",
       "NOTE                                                       239\n",
       "CPL                                                        225\n",
       "HOMEOWNERSHIP_COUNSELING_ORG_LIST                          222\n",
       "FORM4506-T                                                 218\n",
       "WARRANTY_DEED                                              131\n",
       "VERBAL_VOE                                                 123\n",
       "PATRIOT                                                    104\n",
       "Credit Inquiry                                              90\n",
       "LOCK_CONFORMATION                                           85\n",
       "HOI                                                         83\n",
       "ESCROW                                                      82\n",
       "Survey                                                      81\n",
       "APPRAISAL_DELIVERY_WAIVER/CONSENT_AND_INTENT_TO_PROCEED     72\n",
       "EQUAL_CREDIT_OPPURTUNITY_ACT                                69\n",
       "CREDIT_INQUIRY                                              65\n",
       "FLOOD_INSURANCE                                             65\n",
       "ACK_HOMEOWNERSHIP_COUNSELING_ORG_LIST                       63\n",
       "STEERING                                                    61\n",
       "COC                                                         60\n",
       "APPROVAL                                                    60\n",
       "WIRING_INST                                                 60\n",
       "Policy Endorsement                                          58\n",
       "APPRAISAL_REPORT_INVOICE                                    58\n",
       "BUSSINESS_ARRANGEMENT_DISC_STATEMENT                        57\n",
       "FLOOD                                                       57\n",
       "Third Party Processing Invoice                              55\n",
       "CHAIN_TITLE                                                 53\n",
       "IMPORTANT_NOTICE_TO_HOMEBUYERS                              44\n",
       "QM_BREAKDOWN                                                42\n",
       "Notice of Ad Valorem Tax                                    41\n",
       "Survey Invoice                                              35\n",
       "CONSENT_AND_INTENT_TO_PROCEED                               33\n",
       "HOI Invoice                                                 27\n",
       "APPRAISAL_DELIVERY_WAIVER                                   23\n",
       "INFORMED_CHOICE_DISCLOSURE_NOTICE                           17\n",
       "NOTICE_TO_HOMEOWNER                                         15\n",
       "PURCHASE_CONTRACT_ADDENDUM                                  14\n",
       "FHA_IDENTITY_OF_INTEREST_CERTIFICATION                      10\n",
       "PURCHASE_CONTRACT_EXTENSION_ADDENDUM                         5\n",
       "Chain of Title                                               2\n",
       "INFORMED_CHOICE_DISCLOSURE_NOTICE/                           1\n",
       "Note                                                         1\n",
       "Credit Report                                                1\n",
       "Purchase Contract                                            1\n",
       "Loan Approval                                                1\n",
       "Name: Label, dtype: int64"
      ]
     },
     "execution_count": 102,
     "metadata": {},
     "output_type": "execute_result"
    }
   ],
   "source": [
    "multi_train_df['Label'].value_counts()"
   ]
  },
  {
   "cell_type": "code",
   "execution_count": 114,
   "metadata": {},
   "outputs": [],
   "source": [
    "max_count = 891"
   ]
  },
  {
   "cell_type": "code",
   "execution_count": 103,
   "metadata": {},
   "outputs": [],
   "source": [
    "groups = multi_train_df.groupby('Label')"
   ]
  },
  {
   "cell_type": "code",
   "execution_count": 115,
   "metadata": {},
   "outputs": [],
   "source": [
    "#Lets write some logic to create a balanced df\n",
    "balanced_df = multi_train_df[multi_train_df['Label']=='MORTGAGE']"
   ]
  },
  {
   "cell_type": "code",
   "execution_count": 132,
   "metadata": {},
   "outputs": [],
   "source": [
    "def replicate(df):\n",
    "    ndf = df\n",
    "    while len(ndf) < 800:\n",
    "        ndf = ndf.append(df)\n",
    "    return ndf  "
   ]
  },
  {
   "cell_type": "code",
   "execution_count": 133,
   "metadata": {},
   "outputs": [
    {
     "name": "stdout",
     "output_type": "stream",
     "text": [
      "Started for ACK_HOMEOWNERSHIP_COUNSELING_ORG_LIST\n",
      "Started for APPRAISAL\n",
      "Started for APPRAISAL_DELIVERY_WAIVER\n",
      "Started for APPRAISAL_DELIVERY_WAIVER/CONSENT_AND_INTENT_TO_PROCEED\n",
      "Started for APPRAISAL_REPORT_INVOICE\n",
      "Started for APPROVAL\n",
      "Started for AUS-DU\n",
      "Started for BUSSINESS_ARRANGEMENT_DISC_STATEMENT\n",
      "Started for CHAIN_TITLE\n",
      "Started for COC\n",
      "Started for CONSENT_AND_INTENT_TO_PROCEED\n",
      "Started for CPL\n",
      "Started for CREDIT_INQUIRY\n",
      "Started for Chain of Title\n",
      "Started for Credit Inquiry\n",
      "Started for Credit Report\n",
      "Started for EQUAL_CREDIT_OPPURTUNITY_ACT\n",
      "Started for ESCROW\n",
      "Started for FHA_IDENTITY_OF_INTEREST_CERTIFICATION\n",
      "Started for FLOOD\n",
      "Started for FLOOD_INSURANCE\n",
      "Started for FORM4506-T\n",
      "Started for HOI\n",
      "Started for HOI Invoice\n",
      "Started for HOMEOWNERSHIP_COUNSELING_ORG_LIST\n",
      "Started for IMPORTANT_NOTICE_TO_HOMEBUYERS\n",
      "Started for INFORMED_CHOICE_DISCLOSURE_NOTICE\n",
      "Started for INFORMED_CHOICE_DISCLOSURE_NOTICE/\n",
      "Started for LOAN_EST\n",
      "Started for LOCK_CONFORMATION\n",
      "Started for Loan Approval\n",
      "Started for NOTE\n",
      "Started for NOTICE_TO_HOMEOWNER\n",
      "Started for Note\n",
      "Started for Notice of Ad Valorem Tax\n",
      "Started for PATRIOT\n",
      "Started for PURCHASE_CONTRACT\n",
      "Started for PURCHASE_CONTRACT_ADDENDUM\n",
      "Started for PURCHASE_CONTRACT_EXTENSION_ADDENDUM\n",
      "Started for Policy Endorsement\n",
      "Started for Purchase Contract\n",
      "Started for QM_BREAKDOWN\n",
      "Started for STEERING\n",
      "Started for Survey\n",
      "Started for Survey Invoice\n",
      "Started for TITLE\n",
      "Started for Third Party Processing Invoice\n",
      "Started for VERBAL_VOE\n",
      "Started for WARRANTY_DEED\n",
      "Started for WIRING_INST\n"
     ]
    }
   ],
   "source": [
    "for g in groups:\n",
    "    if g[0] != 'MORTGAGE' and len(g[1]) < 600:\n",
    "        print(f\"Started for {g[0]}\")\n",
    "        balanced_df = balanced_df.append(replicate(g[1]))"
   ]
  },
  {
   "cell_type": "code",
   "execution_count": 134,
   "metadata": {},
   "outputs": [
    {
     "data": {
      "text/plain": [
       "AUS-DU                                                     1179\n",
       "TITLE                                                      1149\n",
       "APPRAISAL                                                  1142\n",
       "LOAN_EST                                                    957\n",
       "NOTE                                                        956\n",
       "WARRANTY_DEED                                               917\n",
       "CPL                                                         900\n",
       "PURCHASE_CONTRACT                                           898\n",
       "MORTGAGE                                                    891\n",
       "HOMEOWNERSHIP_COUNSELING_ORG_LIST                           888\n",
       "FORM4506-T                                                  872\n",
       "APPRAISAL_DELIVERY_WAIVER/CONSENT_AND_INTENT_TO_PROCEED     864\n",
       "VERBAL_VOE                                                  861\n",
       "FLOOD                                                       855\n",
       "BUSSINESS_ARRANGEMENT_DISC_STATEMENT                        855\n",
       "STEERING                                                    854\n",
       "LOCK_CONFORMATION                                           850\n",
       "CHAIN_TITLE                                                 848\n",
       "FLOOD_INSURANCE                                             845\n",
       "CREDIT_INQUIRY                                              845\n",
       "QM_BREAKDOWN                                                840\n",
       "COC                                                         840\n",
       "WIRING_INST                                                 840\n",
       "APPROVAL                                                    840\n",
       "IMPORTANT_NOTICE_TO_HOMEBUYERS                              836\n",
       "PATRIOT                                                     832\n",
       "HOI                                                         830\n",
       "EQUAL_CREDIT_OPPURTUNITY_ACT                                828\n",
       "Third Party Processing Invoice                              825\n",
       "CONSENT_AND_INTENT_TO_PROCEED                               825\n",
       "ESCROW                                                      820\n",
       "Notice of Ad Valorem Tax                                    820\n",
       "ACK_HOMEOWNERSHIP_COUNSELING_ORG_LIST                       819\n",
       "INFORMED_CHOICE_DISCLOSURE_NOTICE                           816\n",
       "Policy Endorsement                                          812\n",
       "APPRAISAL_REPORT_INVOICE                                    812\n",
       "PURCHASE_CONTRACT_ADDENDUM                                  812\n",
       "Survey                                                      810\n",
       "NOTICE_TO_HOMEOWNER                                         810\n",
       "Credit Inquiry                                              810\n",
       "HOI Invoice                                                 810\n",
       "Survey Invoice                                              805\n",
       "APPRAISAL_DELIVERY_WAIVER                                   805\n",
       "Loan Approval                                               800\n",
       "Purchase Contract                                           800\n",
       "Note                                                        800\n",
       "Credit Report                                               800\n",
       "FHA_IDENTITY_OF_INTEREST_CERTIFICATION                      800\n",
       "INFORMED_CHOICE_DISCLOSURE_NOTICE/                          800\n",
       "PURCHASE_CONTRACT_EXTENSION_ADDENDUM                        800\n",
       "Chain of Title                                              800\n",
       "Name: Label, dtype: int64"
      ]
     },
     "execution_count": 134,
     "metadata": {},
     "output_type": "execute_result"
    }
   ],
   "source": [
    "balanced_df['Label'].value_counts()"
   ]
  },
  {
   "cell_type": "code",
   "execution_count": 135,
   "metadata": {},
   "outputs": [],
   "source": [
    "# Looks better now\n",
    "balanced_df = balanced_df.sample(frac = 1)"
   ]
  },
  {
   "cell_type": "code",
   "execution_count": 136,
   "metadata": {},
   "outputs": [],
   "source": [
    "balanced_df.reset_index(drop=True, inplace=True)"
   ]
  },
  {
   "cell_type": "code",
   "execution_count": 137,
   "metadata": {},
   "outputs": [
    {
     "name": "stdout",
     "output_type": "stream",
     "text": [
      "<class 'pandas.core.frame.DataFrame'>\n",
      "RangeIndex: 43723 entries, 0 to 43722\n",
      "Data columns (total 2 columns):\n",
      "Label    43723 non-null object\n",
      "Text     43723 non-null object\n",
      "dtypes: object(2)\n",
      "memory usage: 683.3+ KB\n"
     ]
    }
   ],
   "source": [
    "balanced_df.info()"
   ]
  },
  {
   "cell_type": "code",
   "execution_count": 138,
   "metadata": {},
   "outputs": [
    {
     "data": {
      "text/html": [
       "<div>\n",
       "<style scoped>\n",
       "    .dataframe tbody tr th:only-of-type {\n",
       "        vertical-align: middle;\n",
       "    }\n",
       "\n",
       "    .dataframe tbody tr th {\n",
       "        vertical-align: top;\n",
       "    }\n",
       "\n",
       "    .dataframe thead th {\n",
       "        text-align: right;\n",
       "    }\n",
       "</style>\n",
       "<table border=\"1\" class=\"dataframe\">\n",
       "  <thead>\n",
       "    <tr style=\"text-align: right;\">\n",
       "      <th></th>\n",
       "      <th>Label</th>\n",
       "      <th>Text</th>\n",
       "    </tr>\n",
       "  </thead>\n",
       "  <tbody>\n",
       "    <tr>\n",
       "      <th>0</th>\n",
       "      <td>LOCK_CONFORMATION</td>\n",
       "      <td>Date: 03/01/2017 11:49 amAccount Executive Jul...</td>\n",
       "    </tr>\n",
       "    <tr>\n",
       "      <th>1</th>\n",
       "      <td>APPRAISAL_REPORT_INVOICE</td>\n",
       "      <td>INVOICEClass Appraisal2600 Bellingham Rd Suite...</td>\n",
       "    </tr>\n",
       "    <tr>\n",
       "      <th>2</th>\n",
       "      <td>IMPORTANT_NOTICE_TO_HOMEBUYERS</td>\n",
       "      <td>11/30/2018 2:45:25 PM MSTReviewAffiliated Busi...</td>\n",
       "    </tr>\n",
       "    <tr>\n",
       "      <th>3</th>\n",
       "      <td>APPRAISAL_DELIVERY_WAIVER</td>\n",
       "      <td>docutechACCELERATING DIGITAL LENDING.eSign Pro...</td>\n",
       "    </tr>\n",
       "    <tr>\n",
       "      <th>4</th>\n",
       "      <td>AUS-DU</td>\n",
       "      <td>10/9/2018Desktop Underwriter Findings, Luis Em...</td>\n",
       "    </tr>\n",
       "  </tbody>\n",
       "</table>\n",
       "</div>"
      ],
      "text/plain": [
       "                            Label  \\\n",
       "0               LOCK_CONFORMATION   \n",
       "1        APPRAISAL_REPORT_INVOICE   \n",
       "2  IMPORTANT_NOTICE_TO_HOMEBUYERS   \n",
       "3       APPRAISAL_DELIVERY_WAIVER   \n",
       "4                          AUS-DU   \n",
       "\n",
       "                                                Text  \n",
       "0  Date: 03/01/2017 11:49 amAccount Executive Jul...  \n",
       "1  INVOICEClass Appraisal2600 Bellingham Rd Suite...  \n",
       "2  11/30/2018 2:45:25 PM MSTReviewAffiliated Busi...  \n",
       "3  docutechACCELERATING DIGITAL LENDING.eSign Pro...  \n",
       "4  10/9/2018Desktop Underwriter Findings, Luis Em...  "
      ]
     },
     "execution_count": 138,
     "metadata": {},
     "output_type": "execute_result"
    }
   ],
   "source": [
    "balanced_df.head()"
   ]
  },
  {
   "cell_type": "code",
   "execution_count": 139,
   "metadata": {},
   "outputs": [
    {
     "data": {
      "text/plain": [
       "<matplotlib.axes._subplots.AxesSubplot at 0x2356eb1cc50>"
      ]
     },
     "execution_count": 139,
     "metadata": {},
     "output_type": "execute_result"
    },
    {
     "data": {
      "image/png": "[encoded data removed]",
      "text/plain": [
       "<Figure size 432x288 with 1 Axes>"
      ]
     },
     "metadata": {
      "needs_background": "light"
     },
     "output_type": "display_data"
    }
   ],
   "source": [
    "balanced_df['Label'].value_counts().plot(kind='bar')"
   ]
  },
  {
   "cell_type": "code",
   "execution_count": 141,
   "metadata": {},
   "outputs": [],
   "source": [
    "balanced_df['processed_Text'] = balanced_df['Text'].apply(clean)"
   ]
  },
  {
   "cell_type": "code",
   "execution_count": 142,
   "metadata": {},
   "outputs": [],
   "source": [
    "balanced_df.drop(['Text'], axis=1, inplace=True)"
   ]
  },
  {
   "cell_type": "code",
   "execution_count": 144,
   "metadata": {},
   "outputs": [
    {
     "data": {
      "text/plain": [
       "array(['ACK_HOMEOWNERSHIP_COUNSELING_ORG_LIST', 'APPRAISAL',\n",
       "       'APPRAISAL_DELIVERY_WAIVER',\n",
       "       'APPRAISAL_DELIVERY_WAIVER/CONSENT_AND_INTENT_TO_PROCEED',\n",
       "       'APPRAISAL_REPORT_INVOICE', 'APPROVAL', 'AUS-DU',\n",
       "       'BUSSINESS_ARRANGEMENT_DISC_STATEMENT', 'CHAIN_TITLE', 'COC',\n",
       "       'CONSENT_AND_INTENT_TO_PROCEED', 'CPL', 'CREDIT_INQUIRY',\n",
       "       'Chain of Title', 'Credit Inquiry', 'Credit Report',\n",
       "       'EQUAL_CREDIT_OPPURTUNITY_ACT', 'ESCROW',\n",
       "       'FHA_IDENTITY_OF_INTEREST_CERTIFICATION', 'FLOOD',\n",
       "       'FLOOD_INSURANCE', 'FORM4506-T', 'HOI', 'HOI Invoice',\n",
       "       'HOMEOWNERSHIP_COUNSELING_ORG_LIST',\n",
       "       'IMPORTANT_NOTICE_TO_HOMEBUYERS',\n",
       "       'INFORMED_CHOICE_DISCLOSURE_NOTICE',\n",
       "       'INFORMED_CHOICE_DISCLOSURE_NOTICE/', 'LOAN_EST',\n",
       "       'LOCK_CONFORMATION', 'Loan Approval', 'MORTGAGE', 'NOTE',\n",
       "       'NOTICE_TO_HOMEOWNER', 'Note', 'Notice of Ad Valorem Tax',\n",
       "       'PATRIOT', 'PURCHASE_CONTRACT', 'PURCHASE_CONTRACT_ADDENDUM',\n",
       "       'PURCHASE_CONTRACT_EXTENSION_ADDENDUM', 'Policy Endorsement',\n",
       "       'Purchase Contract', 'QM_BREAKDOWN', 'STEERING', 'Survey',\n",
       "       'Survey Invoice', 'TITLE', 'Third Party Processing Invoice',\n",
       "       'VERBAL_VOE', 'WARRANTY_DEED', 'WIRING_INST'], dtype='<U55')"
      ]
     },
     "execution_count": 144,
     "metadata": {},
     "output_type": "execute_result"
    }
   ],
   "source": [
    "mlb = LabelBinarizer()\n",
    "mlb.fit(balanced_df['Label'])\n",
    "mlb.classes_"
   ]
  },
  {
   "cell_type": "code",
   "execution_count": 145,
   "metadata": {},
   "outputs": [],
   "source": [
    "train_m, test_m = train_test_split(balanced_df, test_size=0.2, stratify=balanced_df['Label'], random_state=42)"
   ]
  },
  {
   "cell_type": "code",
   "execution_count": 146,
   "metadata": {},
   "outputs": [],
   "source": [
    "X_train_m_raw = train_m['processed_Text'].copy()\n",
    "X_test_m_raw = test_m['processed_Text'].copy()\n",
    "y_train_m = mlb.transform(train_m['Label'])\n",
    "y_test_m = mlb.transform(test_m['Label'])"
   ]
  },
  {
   "cell_type": "code",
   "execution_count": 147,
   "metadata": {},
   "outputs": [
    {
     "data": {
      "text/plain": [
       "CountVectorizer(analyzer='word', binary=False, decode_error='strict',\n",
       "                dtype=<class 'numpy.int64'>, encoding='utf-8', input='content',\n",
       "                lowercase=True, max_df=1.0, max_features=None, min_df=1,\n",
       "                ngram_range=(1, 1), preprocessor=None, stop_words=None,\n",
       "                strip_accents=None, token_pattern='(?u)\\\\b\\\\w\\\\w+\\\\b',\n",
       "                tokenizer=None, vocabulary=None)"
      ]
     },
     "execution_count": 147,
     "metadata": {},
     "output_type": "execute_result"
    }
   ],
   "source": [
    "m_vectorizer = CountVectorizer()\n",
    "m_vectorizer.fit(X_train_m_raw)"
   ]
  },
  {
   "cell_type": "code",
   "execution_count": 148,
   "metadata": {},
   "outputs": [],
   "source": [
    "X_train_m = m_vectorizer.transform(X_train_m_raw)\n",
    "X_test_m  = m_vectorizer.transform(X_test_m_raw)"
   ]
  },
  {
   "cell_type": "code",
   "execution_count": 151,
   "metadata": {},
   "outputs": [
    {
     "data": {
      "text/plain": [
       "(34978, 58160)"
      ]
     },
     "execution_count": 151,
     "metadata": {},
     "output_type": "execute_result"
    }
   ],
   "source": [
    "X_train_m.shape"
   ]
  },
  {
   "cell_type": "code",
   "execution_count": 152,
   "metadata": {},
   "outputs": [],
   "source": [
    "def multiClassModel():\n",
    "    model = Sequential()\n",
    "    model.add(Dense(50, input_shape=(X_train_m.shape[1],)))\n",
    "    model.add(Activation('relu'))\n",
    "    model.add(Dropout(0.5))\n",
    "    model.add(Dense(100))\n",
    "    model.add(Activation('relu'))\n",
    "    model.add(Dropout(0.4))\n",
    "    model.add(Dense(50))\n",
    "    model.add(Activation('relu'))\n",
    "    model.add(Dropout(0.4))\n",
    "    model.add(Dense(len(mlb.classes_)))\n",
    "    model.add(Activation('softmax'))\n",
    "    model.compile(loss='categorical_crossentropy', optimizer='adam', metrics=['accuracy'])\n",
    "    return model"
   ]
  },
  {
   "cell_type": "code",
   "execution_count": 153,
   "metadata": {},
   "outputs": [
    {
     "name": "stdout",
     "output_type": "stream",
     "text": [
      "Epoch 1/100\n",
      "35/35 [==============================] - 3s 75ms/step - loss: 3.3512 - accuracy: 0.1469\n",
      "Epoch 2/100\n",
      "35/35 [==============================] - 3s 74ms/step - loss: 2.3305 - accuracy: 0.3653\n",
      "Epoch 3/100\n",
      "35/35 [==============================] - 3s 74ms/step - loss: 1.7384 - accuracy: 0.5088\n",
      "Epoch 4/100\n",
      "35/35 [==============================] - 3s 75ms/step - loss: 1.3698 - accuracy: 0.6015\n",
      "Epoch 5/100\n",
      "35/35 [==============================] - 3s 75ms/step - loss: 1.1680 - accuracy: 0.6592\n",
      "Epoch 6/100\n",
      "35/35 [==============================] - 3s 76ms/step - loss: 1.0183 - accuracy: 0.6961\n",
      "Epoch 7/100\n",
      "35/35 [==============================] - 3s 74ms/step - loss: 0.9187 - accuracy: 0.7263\n",
      "Epoch 8/100\n",
      "35/35 [==============================] - 3s 76ms/step - loss: 0.8497 - accuracy: 0.7458\n",
      "Epoch 9/100\n",
      "35/35 [==============================] - 3s 74ms/step - loss: 0.7971 - accuracy: 0.7602\n",
      "Epoch 10/100\n",
      "35/35 [==============================] - 3s 76ms/step - loss: 0.7466 - accuracy: 0.7761\n",
      "Epoch 11/100\n",
      "35/35 [==============================] - 3s 75ms/step - loss: 0.7045 - accuracy: 0.7872\n",
      "Epoch 12/100\n",
      "35/35 [==============================] - 3s 77ms/step - loss: 0.6698 - accuracy: 0.7998\n",
      "Epoch 13/100\n",
      "35/35 [==============================] - 3s 74ms/step - loss: 0.6396 - accuracy: 0.8081\n",
      "Epoch 14/100\n",
      "35/35 [==============================] - 3s 76ms/step - loss: 0.6238 - accuracy: 0.8132\n",
      "Epoch 15/100\n",
      "35/35 [==============================] - 3s 76ms/step - loss: 0.5939 - accuracy: 0.8219\n",
      "Epoch 16/100\n",
      "35/35 [==============================] - 3s 85ms/step - loss: 0.5720 - accuracy: 0.8282\n",
      "Epoch 17/100\n",
      "35/35 [==============================] - 3s 78ms/step - loss: 0.5441 - accuracy: 0.8354\n",
      "Epoch 18/100\n",
      "35/35 [==============================] - 3s 75ms/step - loss: 0.5386 - accuracy: 0.8375\n",
      "Epoch 19/100\n",
      "35/35 [==============================] - 3s 76ms/step - loss: 0.5141 - accuracy: 0.8458\n",
      "Epoch 20/100\n",
      "35/35 [==============================] - 3s 74ms/step - loss: 0.5161 - accuracy: 0.8463\n",
      "Epoch 21/100\n",
      "35/35 [==============================] - 3s 76ms/step - loss: 0.5055 - accuracy: 0.8500\n",
      "Epoch 22/100\n",
      "35/35 [==============================] - 3s 75ms/step - loss: 0.4830 - accuracy: 0.8560\n",
      "Epoch 23/100\n",
      "35/35 [==============================] - 3s 76ms/step - loss: 0.4775 - accuracy: 0.8568\n",
      "Epoch 24/100\n",
      "35/35 [==============================] - 3s 80ms/step - loss: 0.4595 - accuracy: 0.8637\n",
      "Epoch 25/100\n",
      "35/35 [==============================] - 3s 98ms/step - loss: 0.4603 - accuracy: 0.8624\n",
      "Epoch 26/100\n",
      "35/35 [==============================] - 3s 96ms/step - loss: 0.4496 - accuracy: 0.8660\n",
      "Epoch 27/100\n",
      "35/35 [==============================] - 3s 78ms/step - loss: 0.4374 - accuracy: 0.8720\n",
      "Epoch 28/100\n",
      "35/35 [==============================] - 3s 75ms/step - loss: 0.4338 - accuracy: 0.8738\n",
      "Epoch 29/100\n",
      "35/35 [==============================] - 3s 76ms/step - loss: 0.4238 - accuracy: 0.8738\n",
      "Epoch 30/100\n",
      "35/35 [==============================] - 3s 74ms/step - loss: 0.4175 - accuracy: 0.8777\n",
      "Epoch 31/100\n",
      "35/35 [==============================] - 3s 77ms/step - loss: 0.4156 - accuracy: 0.8777\n",
      "Epoch 32/100\n",
      "35/35 [==============================] - 3s 75ms/step - loss: 0.4054 - accuracy: 0.8809\n",
      "Epoch 33/100\n",
      "35/35 [==============================] - 3s 77ms/step - loss: 0.4015 - accuracy: 0.8814\n",
      "Epoch 34/100\n",
      "35/35 [==============================] - 3s 75ms/step - loss: 0.3978 - accuracy: 0.8847\n",
      "Epoch 35/100\n",
      "35/35 [==============================] - 3s 79ms/step - loss: 0.3801 - accuracy: 0.8874\n",
      "Epoch 36/100\n",
      "35/35 [==============================] - 3s 76ms/step - loss: 0.3822 - accuracy: 0.8874\n",
      "Epoch 37/100\n",
      "35/35 [==============================] - 3s 80ms/step - loss: 0.3767 - accuracy: 0.8894\n",
      "Epoch 38/100\n",
      "35/35 [==============================] - 3s 76ms/step - loss: 0.3746 - accuracy: 0.8892\n",
      "Epoch 39/100\n",
      "35/35 [==============================] - 3s 76ms/step - loss: 0.3739 - accuracy: 0.8920\n",
      "Epoch 40/100\n",
      "35/35 [==============================] - 3s 77ms/step - loss: 0.3609 - accuracy: 0.8950\n",
      "Epoch 41/100\n",
      "35/35 [==============================] - 3s 76ms/step - loss: 0.3539 - accuracy: 0.8952\n",
      "Epoch 42/100\n",
      "35/35 [==============================] - 3s 77ms/step - loss: 0.3564 - accuracy: 0.8970\n",
      "Epoch 43/100\n",
      "35/35 [==============================] - 3s 76ms/step - loss: 0.3598 - accuracy: 0.8956\n",
      "Epoch 44/100\n",
      "35/35 [==============================] - 3s 77ms/step - loss: 0.3516 - accuracy: 0.8979\n",
      "Epoch 45/100\n",
      "35/35 [==============================] - 3s 75ms/step - loss: 0.3475 - accuracy: 0.8985\n",
      "Epoch 46/100\n",
      "35/35 [==============================] - 3s 79ms/step - loss: 0.3378 - accuracy: 0.9014\n",
      "Epoch 47/100\n",
      "35/35 [==============================] - 3s 78ms/step - loss: 0.3383 - accuracy: 0.9020\n",
      "Epoch 48/100\n",
      "35/35 [==============================] - 3s 79ms/step - loss: 0.3401 - accuracy: 0.9003\n",
      "Epoch 49/100\n",
      "35/35 [==============================] - 3s 77ms/step - loss: 0.3295 - accuracy: 0.9045\n",
      "Epoch 50/100\n",
      "35/35 [==============================] - 3s 78ms/step - loss: 0.3241 - accuracy: 0.9046\n",
      "Epoch 51/100\n",
      "35/35 [==============================] - 3s 76ms/step - loss: 0.3215 - accuracy: 0.9058\n",
      "Epoch 52/100\n",
      "35/35 [==============================] - 3s 78ms/step - loss: 0.3214 - accuracy: 0.9074\n",
      "Epoch 53/100\n",
      "35/35 [==============================] - 3s 79ms/step - loss: 0.3248 - accuracy: 0.9056\n",
      "Epoch 54/100\n",
      "35/35 [==============================] - 3s 81ms/step - loss: 0.3168 - accuracy: 0.9088\n",
      "Epoch 55/100\n",
      "35/35 [==============================] - 3s 83ms/step - loss: 0.3210 - accuracy: 0.9077\n",
      "Epoch 56/100\n",
      "35/35 [==============================] - 3s 84ms/step - loss: 0.3112 - accuracy: 0.9098\n",
      "Epoch 57/100\n",
      "35/35 [==============================] - 3s 83ms/step - loss: 0.3093 - accuracy: 0.9123\n",
      "Epoch 58/100\n",
      "35/35 [==============================] - 3s 84ms/step - loss: 0.3153 - accuracy: 0.9100\n",
      "Epoch 59/100\n",
      "35/35 [==============================] - 3s 80ms/step - loss: 0.3097 - accuracy: 0.9119\n",
      "Epoch 60/100\n",
      "35/35 [==============================] - 3s 81ms/step - loss: 0.3015 - accuracy: 0.9121\n",
      "Epoch 61/100\n",
      "35/35 [==============================] - 3s 78ms/step - loss: 0.3093 - accuracy: 0.9115\n",
      "Epoch 62/100\n",
      "35/35 [==============================] - 3s 79ms/step - loss: 0.3016 - accuracy: 0.9126\n",
      "Epoch 63/100\n",
      "35/35 [==============================] - 3s 78ms/step - loss: 0.3017 - accuracy: 0.9129\n",
      "Epoch 64/100\n",
      "35/35 [==============================] - 3s 80ms/step - loss: 0.2948 - accuracy: 0.9146 0s - loss: 0.2964 - ac\n",
      "Epoch 65/100\n",
      "35/35 [==============================] - 3s 77ms/step - loss: 0.3054 - accuracy: 0.9127\n",
      "Epoch 66/100\n",
      "35/35 [==============================] - 3s 78ms/step - loss: 0.2979 - accuracy: 0.9148\n",
      "Epoch 67/100\n",
      "35/35 [==============================] - 3s 77ms/step - loss: 0.2937 - accuracy: 0.9172\n",
      "Epoch 68/100\n",
      "35/35 [==============================] - 3s 79ms/step - loss: 0.2892 - accuracy: 0.9177\n",
      "Epoch 69/100\n",
      "35/35 [==============================] - 3s 79ms/step - loss: 0.2892 - accuracy: 0.9167\n",
      "Epoch 70/100\n",
      "35/35 [==============================] - 3s 83ms/step - loss: 0.2872 - accuracy: 0.9186\n",
      "Epoch 71/100\n",
      "35/35 [==============================] - 4s 110ms/step - loss: 0.2905 - accuracy: 0.9188\n",
      "Epoch 72/100\n",
      "35/35 [==============================] - 4s 108ms/step - loss: 0.2912 - accuracy: 0.9167\n",
      "Epoch 73/100\n",
      "35/35 [==============================] - 3s 80ms/step - loss: 0.2791 - accuracy: 0.9196\n",
      "Epoch 74/100\n",
      "35/35 [==============================] - 3s 82ms/step - loss: 0.2834 - accuracy: 0.9195\n",
      "Epoch 75/100\n",
      "35/35 [==============================] - 3s 80ms/step - loss: 0.2807 - accuracy: 0.9208\n",
      "Epoch 76/100\n",
      "35/35 [==============================] - 3s 95ms/step - loss: 0.2782 - accuracy: 0.9205\n",
      "Epoch 77/100\n",
      "35/35 [==============================] - 3s 76ms/step - loss: 0.2732 - accuracy: 0.9224\n",
      "Epoch 78/100\n",
      "35/35 [==============================] - 3s 82ms/step - loss: 0.2696 - accuracy: 0.9230\n",
      "Epoch 79/100\n",
      "35/35 [==============================] - 3s 80ms/step - loss: 0.2693 - accuracy: 0.9234\n",
      "Epoch 80/100\n",
      "35/35 [==============================] - 3s 83ms/step - loss: 0.2752 - accuracy: 0.9195\n",
      "Epoch 81/100\n",
      "35/35 [==============================] - 3s 79ms/step - loss: 0.2649 - accuracy: 0.9239\n"
     ]
    },
    {
     "name": "stdout",
     "output_type": "stream",
     "text": [
      "Epoch 82/100\n",
      "35/35 [==============================] - 3s 73ms/step - loss: 0.2617 - accuracy: 0.9260\n",
      "Epoch 83/100\n",
      "35/35 [==============================] - 3s 74ms/step - loss: 0.2619 - accuracy: 0.9238\n",
      "Epoch 84/100\n",
      "35/35 [==============================] - 3s 72ms/step - loss: 0.2620 - accuracy: 0.9267\n",
      "Epoch 85/100\n",
      "35/35 [==============================] - 3s 74ms/step - loss: 0.2584 - accuracy: 0.9269\n",
      "Epoch 86/100\n",
      "35/35 [==============================] - 3s 73ms/step - loss: 0.2676 - accuracy: 0.9243\n",
      "Epoch 87/100\n",
      "35/35 [==============================] - 3s 84ms/step - loss: 0.2554 - accuracy: 0.9273\n",
      "Epoch 88/100\n",
      "35/35 [==============================] - 3s 78ms/step - loss: 0.2607 - accuracy: 0.9256\n",
      "Epoch 89/100\n",
      "35/35 [==============================] - 3s 82ms/step - loss: 0.2487 - accuracy: 0.9291\n",
      "Epoch 90/100\n",
      "35/35 [==============================] - 3s 79ms/step - loss: 0.2539 - accuracy: 0.9284\n",
      "Epoch 91/100\n",
      "35/35 [==============================] - 3s 83ms/step - loss: 0.2583 - accuracy: 0.9294\n",
      "Epoch 92/100\n",
      "35/35 [==============================] - 3s 79ms/step - loss: 0.2527 - accuracy: 0.9298\n",
      "Epoch 93/100\n",
      "35/35 [==============================] - 3s 84ms/step - loss: 0.2524 - accuracy: 0.9292\n",
      "Epoch 94/100\n",
      "35/35 [==============================] - 3s 79ms/step - loss: 0.2601 - accuracy: 0.9268\n",
      "Epoch 95/100\n",
      "35/35 [==============================] - 3s 83ms/step - loss: 0.2527 - accuracy: 0.9283\n",
      "Epoch 96/100\n",
      "35/35 [==============================] - 3s 90ms/step - loss: 0.2487 - accuracy: 0.9298\n",
      "Epoch 97/100\n",
      "35/35 [==============================] - 3s 86ms/step - loss: 0.2487 - accuracy: 0.9296 1s - l\n",
      "Epoch 98/100\n",
      "35/35 [==============================] - 3s 82ms/step - loss: 0.2417 - accuracy: 0.9325 0s - loss: 0.2412 - accuracy: 0.93 - ETA: 0s - loss: 0.2420 - accuracy\n",
      "Epoch 99/100\n",
      "35/35 [==============================] - 3s 86ms/step - loss: 0.2397 - accuracy: 0.9322\n",
      "Epoch 100/100\n",
      "35/35 [==============================] - 3s 81ms/step - loss: 0.2462 - accuracy: 0.9308\n",
      "Wall time: 4min 57s\n"
     ]
    }
   ],
   "source": [
    "%%time\n",
    "multi_model = multiClassModel()\n",
    "multi_history = multi_model.fit(X_train_m, y_train_m, batch_size=1024, epochs=100, verbose=1)"
   ]
  },
  {
   "cell_type": "code",
   "execution_count": 154,
   "metadata": {},
   "outputs": [
    {
     "name": "stdout",
     "output_type": "stream",
     "text": [
      "Training accuracy: 0.87%\n"
     ]
    }
   ],
   "source": [
    "print(f\"Training accuracy: {np.mean(multi_history.history['accuracy']):.2}%\")"
   ]
  },
  {
   "cell_type": "code",
   "execution_count": 156,
   "metadata": {},
   "outputs": [
    {
     "name": "stdout",
     "output_type": "stream",
     "text": [
      "Test accuracy: 1.0%\n"
     ]
    }
   ],
   "source": [
    "# Test data\n",
    "scores1 = multi_model.evaluate(X_test_m, y_test_m, verbose=0)\n",
    "print(f\"Test accuracy: {scores1[1]:.2}%\")"
   ]
  },
  {
   "cell_type": "code",
   "execution_count": 157,
   "metadata": {},
   "outputs": [],
   "source": [
    "y_hat_test = [mlb.classes_[pred] for pred in multi_model.predict_classes(X_test_m)]"
   ]
  },
  {
   "cell_type": "code",
   "execution_count": 184,
   "metadata": {},
   "outputs": [
    {
     "data": {
      "text/plain": [
       "8745"
      ]
     },
     "execution_count": 184,
     "metadata": {},
     "output_type": "execute_result"
    }
   ],
   "source": [
    "len(y_hat_test)"
   ]
  },
  {
   "cell_type": "code",
   "execution_count": 185,
   "metadata": {},
   "outputs": [],
   "source": [
    "y_test_m_label = [mlb.classes_[np.argmax(actual)] for actual in y_test_m]"
   ]
  },
  {
   "cell_type": "code",
   "execution_count": 186,
   "metadata": {},
   "outputs": [
    {
     "data": {
      "text/plain": [
       "8745"
      ]
     },
     "execution_count": 186,
     "metadata": {},
     "output_type": "execute_result"
    }
   ],
   "source": [
    "len(y_test_m_label)"
   ]
  },
  {
   "cell_type": "code",
   "execution_count": 187,
   "metadata": {},
   "outputs": [
    {
     "data": {
      "image/png": "[encoded data removed]",
      "text/plain": [
       "<Figure size 720x576 with 2 Axes>"
      ]
     },
     "metadata": {
      "needs_background": "light"
     },
     "output_type": "display_data"
    }
   ],
   "source": [
    "fig, ax = plt.subplots(figsize=(10, 8))\n",
    "sns.heatmap(confusion_matrix(y_test_m_label, y_hat_test), \n",
    "            annot=True, fmt='',\n",
    "            xticklabels=mlb.classes_,\n",
    "            yticklabels=mlb.classes_, ax=ax)\n",
    "ax.set(title='Confusion matrix', xlabel='Predicted', ylabel='Actual')\n",
    "plt.show()"
   ]
  },
  {
   "cell_type": "markdown",
   "metadata": {},
   "source": [
    "# Let take a test data set and do prediction"
   ]
  },
  {
   "cell_type": "code",
   "execution_count": 188,
   "metadata": {},
   "outputs": [
    {
     "name": "stdout",
     "output_type": "stream",
     "text": [
      "<class 'pandas.core.frame.DataFrame'>\n",
      "RangeIndex: 5464 entries, 0 to 5463\n",
      "Data columns (total 1 columns):\n",
      "Text    5464 non-null object\n",
      "dtypes: object(1)\n",
      "memory usage: 42.8+ KB\n"
     ]
    }
   ],
   "source": [
    "test_df.info()"
   ]
  },
  {
   "cell_type": "code",
   "execution_count": 189,
   "metadata": {},
   "outputs": [
    {
     "data": {
      "text/html": [
       "<div>\n",
       "<style scoped>\n",
       "    .dataframe tbody tr th:only-of-type {\n",
       "        vertical-align: middle;\n",
       "    }\n",
       "\n",
       "    .dataframe tbody tr th {\n",
       "        vertical-align: top;\n",
       "    }\n",
       "\n",
       "    .dataframe thead th {\n",
       "        text-align: right;\n",
       "    }\n",
       "</style>\n",
       "<table border=\"1\" class=\"dataframe\">\n",
       "  <thead>\n",
       "    <tr style=\"text-align: right;\">\n",
       "      <th></th>\n",
       "      <th>Text</th>\n",
       "    </tr>\n",
       "  </thead>\n",
       "  <tbody>\n",
       "    <tr>\n",
       "      <th>0</th>\n",
       "      <td>TRUE &amp; CERTIFIED COPYDAThis form is a statemen...</td>\n",
       "    </tr>\n",
       "    <tr>\n",
       "      <th>1</th>\n",
       "      <td>Additional Information About This LoanLoan Dis...</td>\n",
       "    </tr>\n",
       "    <tr>\n",
       "      <th>2</th>\n",
       "      <td>Closing Cost DetailsBorrower-PaidSeller-PaidPa...</td>\n",
       "    </tr>\n",
       "    <tr>\n",
       "      <th>3</th>\n",
       "      <td>Calculating Cash to CloseUse this table to see...</td>\n",
       "    </tr>\n",
       "    <tr>\n",
       "      <th>4</th>\n",
       "      <td>Loan CalculationsOther DisclosuresTotal of Pay...</td>\n",
       "    </tr>\n",
       "  </tbody>\n",
       "</table>\n",
       "</div>"
      ],
      "text/plain": [
       "                                                Text\n",
       "0  TRUE & CERTIFIED COPYDAThis form is a statemen...\n",
       "1  Additional Information About This LoanLoan Dis...\n",
       "2  Closing Cost DetailsBorrower-PaidSeller-PaidPa...\n",
       "3  Calculating Cash to CloseUse this table to see...\n",
       "4  Loan CalculationsOther DisclosuresTotal of Pay..."
      ]
     },
     "execution_count": 189,
     "metadata": {},
     "output_type": "execute_result"
    }
   ],
   "source": [
    "test_df.head()"
   ]
  },
  {
   "cell_type": "code",
   "execution_count": 221,
   "metadata": {},
   "outputs": [],
   "source": [
    "def predictor(text):\n",
    "    text = clean(text)\n",
    "    text_b = vectorizer.transform([text])\n",
    "    prediction = lb.classes_[model.predict_classes(text_b)]\n",
    "    predicted_class = None\n",
    "    if np.ravel(prediction)[0] == 0:\n",
    "        predicted_class = \"None\"\n",
    "    else:\n",
    "        text_m = m_vectorizer.transform([text]) \n",
    "        m_prediction = mlb.classes_[multi_model.predict_classes(text_m)]\n",
    "        predicted_class = m_prediction[0]\n",
    "    return predicted_class"
   ]
  },
  {
   "cell_type": "code",
   "execution_count": 230,
   "metadata": {},
   "outputs": [],
   "source": [
    "dummy_text = test_df['Text'].iloc[101]"
   ]
  },
  {
   "cell_type": "code",
   "execution_count": 231,
   "metadata": {},
   "outputs": [
    {
     "data": {
      "text/plain": [
       "'CREDIT_INQUIRY'"
      ]
     },
     "execution_count": 231,
     "metadata": {},
     "output_type": "execute_result"
    }
   ],
   "source": [
    "predictor(dummy_text)"
   ]
  },
  {
   "cell_type": "code",
   "execution_count": 233,
   "metadata": {},
   "outputs": [],
   "source": [
    "test_df['Prediction'] = test_df['Text'].apply(predictor)"
   ]
  },
  {
   "cell_type": "code",
   "execution_count": 234,
   "metadata": {},
   "outputs": [
    {
     "data": {
      "text/html": [
       "<div>\n",
       "<style scoped>\n",
       "    .dataframe tbody tr th:only-of-type {\n",
       "        vertical-align: middle;\n",
       "    }\n",
       "\n",
       "    .dataframe tbody tr th {\n",
       "        vertical-align: top;\n",
       "    }\n",
       "\n",
       "    .dataframe thead th {\n",
       "        text-align: right;\n",
       "    }\n",
       "</style>\n",
       "<table border=\"1\" class=\"dataframe\">\n",
       "  <thead>\n",
       "    <tr style=\"text-align: right;\">\n",
       "      <th></th>\n",
       "      <th>Text</th>\n",
       "      <th>Prediction</th>\n",
       "    </tr>\n",
       "  </thead>\n",
       "  <tbody>\n",
       "    <tr>\n",
       "      <th>0</th>\n",
       "      <td>TRUE &amp; CERTIFIED COPYDAThis form is a statemen...</td>\n",
       "      <td>LOAN_EST</td>\n",
       "    </tr>\n",
       "    <tr>\n",
       "      <th>1</th>\n",
       "      <td>Additional Information About This LoanLoan Dis...</td>\n",
       "      <td>NOTE</td>\n",
       "    </tr>\n",
       "    <tr>\n",
       "      <th>2</th>\n",
       "      <td>Closing Cost DetailsBorrower-PaidSeller-PaidPa...</td>\n",
       "      <td>NOTE</td>\n",
       "    </tr>\n",
       "    <tr>\n",
       "      <th>3</th>\n",
       "      <td>Calculating Cash to CloseUse this table to see...</td>\n",
       "      <td>NOTE</td>\n",
       "    </tr>\n",
       "    <tr>\n",
       "      <th>4</th>\n",
       "      <td>Loan CalculationsOther DisclosuresTotal of Pay...</td>\n",
       "      <td>NOTE</td>\n",
       "    </tr>\n",
       "  </tbody>\n",
       "</table>\n",
       "</div>"
      ],
      "text/plain": [
       "                                                Text Prediction\n",
       "0  TRUE & CERTIFIED COPYDAThis form is a statemen...   LOAN_EST\n",
       "1  Additional Information About This LoanLoan Dis...       NOTE\n",
       "2  Closing Cost DetailsBorrower-PaidSeller-PaidPa...       NOTE\n",
       "3  Calculating Cash to CloseUse this table to see...       NOTE\n",
       "4  Loan CalculationsOther DisclosuresTotal of Pay...       NOTE"
      ]
     },
     "execution_count": 234,
     "metadata": {},
     "output_type": "execute_result"
    }
   ],
   "source": [
    "test_df.head()"
   ]
  },
  {
   "cell_type": "code",
   "execution_count": 235,
   "metadata": {},
   "outputs": [
    {
     "data": {
      "text/html": [
       "<div>\n",
       "<style scoped>\n",
       "    .dataframe tbody tr th:only-of-type {\n",
       "        vertical-align: middle;\n",
       "    }\n",
       "\n",
       "    .dataframe tbody tr th {\n",
       "        vertical-align: top;\n",
       "    }\n",
       "\n",
       "    .dataframe thead th {\n",
       "        text-align: right;\n",
       "    }\n",
       "</style>\n",
       "<table border=\"1\" class=\"dataframe\">\n",
       "  <thead>\n",
       "    <tr style=\"text-align: right;\">\n",
       "      <th></th>\n",
       "      <th>Text</th>\n",
       "      <th>Prediction</th>\n",
       "    </tr>\n",
       "  </thead>\n",
       "  <tbody>\n",
       "    <tr>\n",
       "      <th>5459</th>\n",
       "      <td>Form W-9 (Rev. 11-2017)Page 51. Interest, divi...</td>\n",
       "      <td>None</td>\n",
       "    </tr>\n",
       "    <tr>\n",
       "      <th>5460</th>\n",
       "      <td>Closing DisclosureClosing InformationTransacti...</td>\n",
       "      <td>None</td>\n",
       "    </tr>\n",
       "    <tr>\n",
       "      <th>5461</th>\n",
       "      <td>Closing Cost DetailsSeller PaidLoan CostsAt Cl...</td>\n",
       "      <td>None</td>\n",
       "    </tr>\n",
       "    <tr>\n",
       "      <th>5462</th>\n",
       "      <td>Closing Disclosure Addendum ATransaction Infor...</td>\n",
       "      <td>None</td>\n",
       "    </tr>\n",
       "    <tr>\n",
       "      <th>5463</th>\n",
       "      <td>CLOSING DISCLOSURE RECEIPT ACKNOWLEDGEMENTSell...</td>\n",
       "      <td>None</td>\n",
       "    </tr>\n",
       "  </tbody>\n",
       "</table>\n",
       "</div>"
      ],
      "text/plain": [
       "                                                   Text Prediction\n",
       "5459  Form W-9 (Rev. 11-2017)Page 51. Interest, divi...       None\n",
       "5460  Closing DisclosureClosing InformationTransacti...       None\n",
       "5461  Closing Cost DetailsSeller PaidLoan CostsAt Cl...       None\n",
       "5462  Closing Disclosure Addendum ATransaction Infor...       None\n",
       "5463  CLOSING DISCLOSURE RECEIPT ACKNOWLEDGEMENTSell...       None"
      ]
     },
     "execution_count": 235,
     "metadata": {},
     "output_type": "execute_result"
    }
   ],
   "source": [
    "test_df.tail()"
   ]
  },
  {
   "cell_type": "code",
   "execution_count": 237,
   "metadata": {},
   "outputs": [],
   "source": [
    "test_df.to_excel(\"data/Result1.xlsx\")"
   ]
  },
  {
   "cell_type": "code",
   "execution_count": null,
   "metadata": {},
   "outputs": [],
   "source": []
  }
 ],
 "metadata": {
  "kernelspec": {
   "display_name": "Python 3",
   "language": "python",
   "name": "python3"
  },
  "language_info": {
   "codemirror_mode": {
    "name": "ipython",
    "version": 3
   },
   "file_extension": ".py",
   "mimetype": "text/x-python",
   "name": "python",
   "nbconvert_exporter": "python",
   "pygments_lexer": "ipython3",
   "version": "3.6.5"
  }
 },
 "nbformat": 4,
 "nbformat_minor": 2
}
